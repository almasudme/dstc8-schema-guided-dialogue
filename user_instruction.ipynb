{
 "cells": [
  {
   "cell_type": "code",
   "execution_count": 1,
   "metadata": {},
   "outputs": [],
   "source": [
    "# ! pip install python-dotenv\n",
    "# !pip install --upgrade langchain\n",
    "# !pip install langchain-community langchain-core\n",
    "from dotenv import load_dotenv, find_dotenv\n",
    "import os\n",
    "from  openai  import OpenAI\n",
    "import pandas as pd\n",
    "pd.set_option('display.max_colwidth', None)"
   ]
  },
  {
   "cell_type": "code",
   "execution_count": 2,
   "metadata": {},
   "outputs": [],
   "source": [
    "_ = load_dotenv(find_dotenv())\n",
    "api_key  = os.environ[\"OPENAI_API_KEY\"]\n"
   ]
  },
  {
   "cell_type": "code",
   "execution_count": 3,
   "metadata": {},
   "outputs": [
    {
     "data": {
      "text/plain": [
       "(204, 6)"
      ]
     },
     "execution_count": 3,
     "metadata": {},
     "output_type": "execute_result"
    }
   ],
   "source": [
    "file_name = \"train_mini.csv\"\n",
    "\n",
    "df = pd.read_csv(file_name)\n",
    "df.shape"
   ]
  },
  {
   "cell_type": "code",
   "execution_count": 4,
   "metadata": {},
   "outputs": [
    {
     "data": {
      "text/html": [
       "<div>\n",
       "<style scoped>\n",
       "    .dataframe tbody tr th:only-of-type {\n",
       "        vertical-align: middle;\n",
       "    }\n",
       "\n",
       "    .dataframe tbody tr th {\n",
       "        vertical-align: top;\n",
       "    }\n",
       "\n",
       "    .dataframe thead th {\n",
       "        text-align: right;\n",
       "    }\n",
       "</style>\n",
       "<table border=\"1\" class=\"dataframe\">\n",
       "  <thead>\n",
       "    <tr style=\"text-align: right;\">\n",
       "      <th></th>\n",
       "      <th>dialogue_id</th>\n",
       "      <th>conversation</th>\n",
       "      <th>turn_services</th>\n",
       "      <th>intent</th>\n",
       "      <th>service_call_method</th>\n",
       "      <th>service_call_parameters</th>\n",
       "    </tr>\n",
       "  </thead>\n",
       "  <tbody>\n",
       "    <tr>\n",
       "      <th>0</th>\n",
       "      <td>1_00000</td>\n",
       "      <td>USER:I am feeling hungry so I would like to find a place to eat.\\nSYSTEM:Do you have a specific which you want the eating place to be located at?\\nUSER:I would like for it to be in San Jose.\\nSYSTEM:Is there a specific cuisine type you enjoy, such as Mexican, Italian or something else?\\nUSER:I usually like eating the American type of food.\\n</td>\n",
       "      <td>['Restaurants_1']</td>\n",
       "      <td>['FindRestaurants']</td>\n",
       "      <td>FindRestaurants</td>\n",
       "      <td>{'city': 'San Jose', 'cuisine': 'American'}</td>\n",
       "    </tr>\n",
       "    <tr>\n",
       "      <th>1</th>\n",
       "      <td>1_00001</td>\n",
       "      <td>USER:Hi i need a help, i am very hungry, I am looking for a restaurant\\nSYSTEM:Sure, I will help you, What type of food are you looking for? Which city should i search in?\\nUSER:Some Punjabi kind of foods in milpitas\\n</td>\n",
       "      <td>['Restaurants_1']</td>\n",
       "      <td>['FindRestaurants']</td>\n",
       "      <td>FindRestaurants</td>\n",
       "      <td>{'city': 'Milpitas', 'cuisine': 'Indian'}</td>\n",
       "    </tr>\n",
       "  </tbody>\n",
       "</table>\n",
       "</div>"
      ],
      "text/plain": [
       "  dialogue_id  \\\n",
       "0     1_00000   \n",
       "1     1_00001   \n",
       "\n",
       "                                                                                                                                                                                                                                                                                                                                              conversation  \\\n",
       "0  USER:I am feeling hungry so I would like to find a place to eat.\\nSYSTEM:Do you have a specific which you want the eating place to be located at?\\nUSER:I would like for it to be in San Jose.\\nSYSTEM:Is there a specific cuisine type you enjoy, such as Mexican, Italian or something else?\\nUSER:I usually like eating the American type of food.\\n   \n",
       "1                                                                                                                               USER:Hi i need a help, i am very hungry, I am looking for a restaurant\\nSYSTEM:Sure, I will help you, What type of food are you looking for? Which city should i search in?\\nUSER:Some Punjabi kind of foods in milpitas\\n   \n",
       "\n",
       "       turn_services               intent service_call_method  \\\n",
       "0  ['Restaurants_1']  ['FindRestaurants']     FindRestaurants   \n",
       "1  ['Restaurants_1']  ['FindRestaurants']     FindRestaurants   \n",
       "\n",
       "                       service_call_parameters  \n",
       "0  {'city': 'San Jose', 'cuisine': 'American'}  \n",
       "1    {'city': 'Milpitas', 'cuisine': 'Indian'}  "
      ]
     },
     "execution_count": 4,
     "metadata": {},
     "output_type": "execute_result"
    }
   ],
   "source": [
    "df.head(2)"
   ]
  },
  {
   "cell_type": "code",
   "execution_count": 5,
   "metadata": {},
   "outputs": [
    {
     "name": "stdout",
     "output_type": "stream",
     "text": [
      "USER:Hi i need a help, i am very hungry, I am looking for a restaurant\n",
      "SYSTEM:Sure, I will help you, What type of food are you looking for? Which city should i search in?\n",
      "USER:Some Punjabi kind of foods in milpitas\n",
      "\n"
     ]
    }
   ],
   "source": [
    "conversation = df.iloc[1]['conversation']\n",
    "print(conversation)"
   ]
  },
  {
   "cell_type": "code",
   "execution_count": 6,
   "metadata": {},
   "outputs": [],
   "source": [
    "# !pip install -U langchain-openai\n",
    "\n",
    "from langchain.chains.llm import LLMChain\n",
    "from langchain.prompts import PromptTemplate\n",
    "# from langchain.chat_models import ChatOpenAI\n",
    "from langchain_openai import ChatOpenAI\n",
    "\n",
    "prompt_template = \"\"\"\n",
    "Your role is to ask an agent to {intent}. \n",
    "Construct a one line user instruction based on this intention as first person from the conversation.\n",
    "\n",
    "Focus on whether user is asking you to {intent}. \n",
    "Also identify requiered number of people, time , place or any other available entity to {intent} in the conversation.\n",
    "Do not display these entities separately though.\n",
    "Use this information to construct the user instruction. Do not make up information if it is not availble.\n",
    "Keep the same verb from conversation in the instruction that is used to {intent}.\n",
    "Use diverse mood and personality in the instruction.\n",
    "In the instruction put date/time, place and number of people for {intent} in the different order. \n",
    "\n",
    "\n",
    "The conversation is delimited with triple backticks.\n",
    "Conversation: ```{conversation}```\n",
    "\"\"\""
   ]
  },
  {
   "cell_type": "code",
   "execution_count": 7,
   "metadata": {},
   "outputs": [
    {
     "name": "stderr",
     "output_type": "stream",
     "text": [
      "C:\\Users\\mal-masud\\AppData\\Local\\Temp\\ipykernel_26812\\1878140874.py:4: LangChainDeprecationWarning: The class `LLMChain` was deprecated in LangChain 0.1.17 and will be removed in 1.0. Use RunnableSequence, e.g., `prompt | llm` instead.\n",
      "  llm_chain = LLMChain(\n"
     ]
    }
   ],
   "source": [
    "llm_name = \"gpt-4o-mini\"\n",
    "llm = ChatOpenAI(model_name=llm_name, temperature=0.5)\n",
    "\n",
    "llm_chain = LLMChain(\n",
    "    llm=llm,\n",
    "    prompt=PromptTemplate.from_template(prompt_template)\n",
    ")"
   ]
  },
  {
   "cell_type": "code",
   "execution_count": 8,
   "metadata": {},
   "outputs": [],
   "source": [
    "# result = llm_chain.predict(conversation=conversation)\n",
    "# result"
   ]
  },
  {
   "cell_type": "markdown",
   "metadata": {},
   "source": [
    "### Running over dataframe      \n"
   ]
  },
  {
   "cell_type": "code",
   "execution_count": 9,
   "metadata": {},
   "outputs": [],
   "source": [
    "\n",
    "results = []\n",
    "intent_dict = {\n",
    "    'ReserveRestaurant' : 'Reserve a Restaurant',\n",
    "    'FindRestaurants':'Find a Restaurant',\n",
    "    'SearchHotel': 'Search a Hotel',\n",
    "    'ReserveHotel':'Reserve a Hotel'\n",
    "\n",
    "\n",
    "}\n",
    "\n",
    "# Experimentation : Iterate over each row\n",
    "# for i in  range(1,205,50):\n",
    "#     # Apply LLM chain on the desired column in each row\n",
    "#     result = llm_chain.predict(\n",
    "#         conversation=df.iloc[i]['dialogue_id']+': '+df.iloc[i]['conversation'],\n",
    "#         intent=intent_dict[df.iloc[i]['service_call_method']])\n",
    "\n",
    "#     # results.append([df.iloc[i]['conversation'],result])\n",
    "#     # results.append(result)\n",
    "#     print(df.iloc[i]['dialogue_id'],df.iloc[i]['service_call_method']+'\\n',df.iloc[i]['conversation'])\n",
    "#     print(result)\n",
    "#     print('='*len(result))\n",
    "\n",
    "# Iterate over each row\n",
    "for index, row in df.iterrows():\n",
    "    # Apply LLM chain on the desired column in each row\n",
    "    result = llm_chain.predict(\n",
    "        conversation=row['dialogue_id']+': '+row['conversation'],\n",
    "        intent=intent_dict[row['service_call_method']])\n",
    "\n",
    "    results.append(result)\n",
    "    \n"
   ]
  },
  {
   "cell_type": "code",
   "execution_count": 10,
   "metadata": {},
   "outputs": [],
   "source": [
    "df['instruction']=results"
   ]
  },
  {
   "cell_type": "code",
   "execution_count": 18,
   "metadata": {},
   "outputs": [],
   "source": [
    "df_out=df[['dialogue_id','service_call_method','conversation','instruction','service_call_parameters']]"
   ]
  },
  {
   "cell_type": "code",
   "execution_count": 19,
   "metadata": {},
   "outputs": [],
   "source": [
    "df_out.to_csv('instruction_mini.csv')"
   ]
  },
  {
   "cell_type": "code",
   "execution_count": 12,
   "metadata": {},
   "outputs": [],
   "source": [
    "# def conversation_to_instruction(conversation):\n",
    "#   MODEL=\"gpt-4o-mini\"\n",
    "\n",
    "#   completion = client.chat.completions.create(\n",
    "#     model=MODEL,\n",
    "#     messages=[\n",
    "#           {\"role\": \"system\", \"content\": f\"\"\"Here is a conversation between a user and the system. Please draft a one sentence user instruction.\n",
    "#           Please keep in mind:\n",
    "#           - randomize your mood and personality\n",
    "#           - randomize orders in each sentence.\n",
    "#           - randomize structure of sentences\n",
    "#           - each instruction must have number of people, time and place  in sentences if available\n",
    "          \n",
    "\n",
    "\n",
    "#           Here is the data:\n",
    "#           {conversation}\n",
    "#           \"\"\"},\n",
    "          \n",
    "#       ]\n",
    "#   )\n",
    "#   return completion.choices[0].message.content"
   ]
  },
  {
   "cell_type": "code",
   "execution_count": 13,
   "metadata": {},
   "outputs": [],
   "source": [
    "# csv_file = r'C:\\openai_proj\\train_50.csv'\n",
    "# # Load the CSV file\n",
    "# df = pd.read_csv(csv_file)\n",
    "# conversation = \" \"\n",
    "\n",
    "# added_instruction_count = 0\n",
    "# for index,row in df.iterrows():\n",
    "#     intent = row['service_call_method']\n",
    "#     conversation = row['conversation']\n",
    "#     if  not pd.isna(row['instruction']):\n",
    "#         continue\n",
    "        \n",
    "    \n",
    "    \n",
    "#     str_instructions = conversation_to_instruction(conversation)\n",
    "#     df.loc[index,'instruction'] = str_instructions\n",
    "#     added_instruction_count += 1\n",
    "#     if added_instruction_count > 200: break\n",
    "# df = df.reindex(['dialogue_id', 'intent','conversation', 'instruction', 'services', \n",
    "#        'service_call_method', 'service_call_parameters' ],axis=1)\n",
    "# df.to_csv(csv_file)\n",
    "    \n",
    "\n",
    "\n",
    "\n"
   ]
  },
  {
   "cell_type": "code",
   "execution_count": null,
   "metadata": {},
   "outputs": [],
   "source": []
  },
  {
   "cell_type": "code",
   "execution_count": null,
   "metadata": {},
   "outputs": [],
   "source": [
    "\n",
    "\n"
   ]
  },
  {
   "cell_type": "code",
   "execution_count": 14,
   "metadata": {},
   "outputs": [
    {
     "name": "stdout",
     "output_type": "stream",
     "text": [
      "Python 3.12.4\n"
     ]
    }
   ],
   "source": [
    "!python --version\n"
   ]
  },
  {
   "cell_type": "code",
   "execution_count": 15,
   "metadata": {},
   "outputs": [
    {
     "data": {
      "text/plain": [
       "'USER:Hi i need a help, i am very hungry, I am looking for a restaurant\\nSYSTEM:Sure, I will help you, What type of food are you looking for? Which city should i search in?\\nUSER:Some Punjabi kind of foods in milpitas\\n'"
      ]
     },
     "execution_count": 15,
     "metadata": {},
     "output_type": "execute_result"
    }
   ],
   "source": [
    "conversation"
   ]
  },
  {
   "cell_type": "code",
   "execution_count": 16,
   "metadata": {},
   "outputs": [
    {
     "ename": "NameError",
     "evalue": "name 'list_instructions' is not defined",
     "output_type": "error",
     "traceback": [
      "\u001b[1;31m---------------------------------------------------------------------------\u001b[0m",
      "\u001b[1;31mNameError\u001b[0m                                 Traceback (most recent call last)",
      "Cell \u001b[1;32mIn[16], line 1\u001b[0m\n\u001b[1;32m----> 1\u001b[0m \u001b[38;5;28mlen\u001b[39m(\u001b[43mlist_instructions\u001b[49m)\n",
      "\u001b[1;31mNameError\u001b[0m: name 'list_instructions' is not defined"
     ]
    }
   ],
   "source": [
    "len(list_instructions)"
   ]
  },
  {
   "cell_type": "code",
   "execution_count": null,
   "metadata": {},
   "outputs": [],
   "source": []
  }
 ],
 "metadata": {
  "kernelspec": {
   "display_name": "Python 3 (ipykernel)",
   "language": "python",
   "name": "python3"
  },
  "language_info": {
   "codemirror_mode": {
    "name": "ipython",
    "version": 3
   },
   "file_extension": ".py",
   "mimetype": "text/x-python",
   "name": "python",
   "nbconvert_exporter": "python",
   "pygments_lexer": "ipython3",
   "version": "3.12.4"
  },
  "vscode": {
   "interpreter": {
    "hash": "7dcceaac5913125ee30d5c0a65a766a11a859ab54a1012faad86c3e5ea55483e"
   }
  }
 },
 "nbformat": 4,
 "nbformat_minor": 4
}
