{
 "cells": [
  {
   "cell_type": "code",
   "execution_count": 1,
   "metadata": {},
   "outputs": [],
   "source": [
    "# %pip install --upgrade langchain\n",
    "# %pip install -q -U langchain-community langchain-core\n",
    "# %pip install -U langchain-openai"
   ]
  },
  {
   "cell_type": "code",
   "execution_count": 2,
   "metadata": {},
   "outputs": [],
   "source": [
    "from dotenv import load_dotenv, find_dotenv\n",
    "import os\n",
    "from  openai  import OpenAI\n",
    "import pandas as pd\n",
    "from langchain_core.prompts import ChatPromptTemplate\n",
    "pd.set_option('display.max_colwidth', None)\n"
   ]
  },
  {
   "cell_type": "code",
   "execution_count": 3,
   "metadata": {},
   "outputs": [],
   "source": [
    "_ = load_dotenv(find_dotenv())\n",
    "# api_key  = os.environ[\"OPENAI_API_KEY\"]"
   ]
  },
  {
   "cell_type": "code",
   "execution_count": 9,
   "metadata": {},
   "outputs": [
    {
     "data": {
      "text/plain": [
       "(204, 8)"
      ]
     },
     "execution_count": 9,
     "metadata": {},
     "output_type": "execute_result"
    }
   ],
   "source": [
    "csv_file_name = \"train_mini.csv\"\n",
    "df = pd.read_csv(csv_file_name)\n",
    "df.shape"
   ]
  },
  {
   "cell_type": "code",
   "execution_count": 10,
   "metadata": {},
   "outputs": [],
   "source": [
    "from langchain_openai import ChatOpenAI\n",
    "openai_llm = ChatOpenAI(\n",
    "    model_name= \"gpt-4o-mini\", \n",
    "    temperature=0.5\n",
    "    )\n",
    "\n",
    "prompt_template = \"\"\"\n",
    "Your role is to identify name of a place type and type of service in that place from a user instruction.\n",
    "\n",
    "Example:\n",
    "\n",
    "I'm looking for a restaurant in Oakland that serves pizza.\n",
    "Here Place is \"Oakland\" type is \"restaurant\" and other parameter is \"pizza\".\n",
    "\n",
    "\"\"\"\n",
    "\n",
    "\n",
    "\n",
    "prompt = ChatPromptTemplate.from_messages(\n",
    "    [\n",
    "        (\n",
    "            \"system\",f\"{prompt_template}\",\n",
    "        ),\n",
    "        (\"human\", \"{user_instruction}\"),\n",
    "    ]\n",
    ")\n",
    "\n",
    "\n",
    "def execute_chain(chain,user_instruction):            \n",
    "\n",
    "    # Apply LLM chain on the desired column in each row\n",
    "    result = chain.invoke(\n",
    "        {\n",
    "        \"user_instruction\":user_instruction,\n",
    "        \n",
    "        }\n",
    "    )\n",
    "    output_lines = result.content.splitlines()\n",
    "    output_dict = {}\n",
    "\n",
    "    # Iterate over each line, split by the colon, and strip extra spaces\n",
    "    for line in output_lines:\n",
    "        if ':' in line:\n",
    "            key, value = line.split(':', 1)\n",
    "            output_dict[key.strip()] = value.strip().strip('\"')\n",
    "\n",
    "    return output_dict"
   ]
  },
  {
   "cell_type": "code",
   "execution_count": 11,
   "metadata": {},
   "outputs": [
    {
     "name": "stderr",
     "output_type": "stream",
     "text": [
      "2024-09-18 02:42:45,875 - INFO - Screenshot folder cleared\n"
     ]
    },
    {
     "name": "stdout",
     "output_type": "stream",
     "text": [
      "I'm feeling hungry and would like to find a restaurant in San Jose that serves American cuisine.\n",
      "{'Place': 'San Jose', 'Type': 'restaurant', 'Parameter': 'American cuisine'}\n"
     ]
    },
    {
     "name": "stderr",
     "output_type": "stream",
     "text": [
      "2024-09-18 02:42:54,331 - INFO - Thoughts:\n",
      "- The current screenshot shows the homepage of UKYelp with two search fields at the top: one for the search term and one for the location.\n",
      "- The objective is to search for a specific term in the first search field and a specific place in the second search field, then hit the search button.\n",
      "- The next step should involve entering the search term in the first search field.\n",
      "\n",
      "Next engine: Navigation Engine\n",
      "Instruction: Click on the first search field and type '{param}'.\n",
      "c:\\flask_projects\\miniconda\\envs\\lavague_dev\\Lib\\site-packages\\langchain\\chains\\api\\base.py:56: LangChainDeprecationWarning: As of langchain-core 0.3.0, LangChain uses pydantic v2 internally. The langchain_core.pydantic_v1 module was a compatibility shim for pydantic v1, and should no longer be used. Please update the code to import from Pydantic directly.\n",
      "\n",
      "For example, replace imports like: `from langchain_core.pydantic_v1 import BaseModel`\n",
      "with: `from pydantic import BaseModel`\n",
      "or the v1 compatibility namespace if you are working in a code base that has not been fully upgraded to pydantic 2 yet. \tfrom pydantic.v1 import BaseModel\n",
      "\n",
      "  from langchain_community.utilities.requests import TextRequestsWrapper\n",
      "c:\\flask_projects\\miniconda\\envs\\lavague_dev\\Lib\\site-packages\\pydantic\\_internal\\_config.py:341: UserWarning: Valid config keys have changed in V2:\n",
      "* 'allow_population_by_field_name' has been renamed to 'populate_by_name'\n",
      "  warnings.warn(message, UserWarning)\n",
      "2024-09-18 02:42:59,614 - ERROR - Error while running the agent: The `__modify_schema__` method is not supported in Pydantic v2. Use `__get_pydantic_json_schema__` instead in class `SecretStr`.\n",
      "\n",
      "For further information visit https://errors.pydantic.dev/2.8/u/custom-json-schema\n"
     ]
    },
    {
     "ename": "PydanticUserError",
     "evalue": "The `__modify_schema__` method is not supported in Pydantic v2. Use `__get_pydantic_json_schema__` instead in class `SecretStr`.\n\nFor further information visit https://errors.pydantic.dev/2.8/u/custom-json-schema",
     "output_type": "error",
     "traceback": [
      "\u001b[1;31m---------------------------------------------------------------------------\u001b[0m",
      "\u001b[1;31mPydanticUserError\u001b[0m                         Traceback (most recent call last)",
      "\u001b[1;32m~\\AppData\\Local\\Temp\\ipykernel_49160\\1397944978.py\u001b[0m in \u001b[0;36m<cell line: 0>\u001b[1;34m()\u001b[0m\n\u001b[0;32m     26\u001b[0m     \u001b[0mplace\u001b[0m \u001b[1;33m=\u001b[0m \u001b[0mresult\u001b[0m\u001b[1;33m[\u001b[0m\u001b[1;34m'Place'\u001b[0m\u001b[1;33m]\u001b[0m\u001b[1;33m\u001b[0m\u001b[1;33m\u001b[0m\u001b[0m\n\u001b[0;32m     27\u001b[0m     \u001b[0mparam\u001b[0m \u001b[1;33m=\u001b[0m \u001b[0mresult\u001b[0m\u001b[1;33m[\u001b[0m\u001b[1;34m'Parameter'\u001b[0m\u001b[1;33m]\u001b[0m\u001b[1;33m\u001b[0m\u001b[1;33m\u001b[0m\u001b[0m\n\u001b[1;32m---> 28\u001b[1;33m     \u001b[0magent\u001b[0m\u001b[1;33m.\u001b[0m\u001b[0mrun\u001b[0m\u001b[1;33m(\u001b[0m\u001b[1;34m\"search {param} in first search Field {place} in the second search field, and then hit search [button]\"\u001b[0m\u001b[1;33m)\u001b[0m\u001b[1;33m\u001b[0m\u001b[1;33m\u001b[0m\u001b[0m\n\u001b[0m\u001b[0;32m     29\u001b[0m     \u001b[1;32mbreak\u001b[0m\u001b[1;33m\u001b[0m\u001b[1;33m\u001b[0m\u001b[0m\n",
      "\u001b[1;32mc:\\flask_projects\\miniconda\\envs\\lavague_dev\\Lib\\site-packages\\lavague\\core\\agents.py\u001b[0m in \u001b[0;36mrun\u001b[1;34m(self, objective, user_data, display, log_to_db, step_by_step)\u001b[0m\n\u001b[0;32m    519\u001b[0m             \u001b[0mlogging_print\u001b[0m\u001b[1;33m.\u001b[0m\u001b[0merror\u001b[0m\u001b[1;33m(\u001b[0m\u001b[1;33mf\"\u001b[0m\u001b[1;33mError while running the agent: \u001b[0m\u001b[1;33m{\u001b[0m\u001b[0me\u001b[0m\u001b[1;33m}\u001b[0m\u001b[1;33m\"\u001b[0m\u001b[1;33m)\u001b[0m\u001b[1;33m\u001b[0m\u001b[1;33m\u001b[0m\u001b[0m\n\u001b[0;32m    520\u001b[0m             \u001b[0mself\u001b[0m\u001b[1;33m.\u001b[0m\u001b[0minterrupted\u001b[0m \u001b[1;33m=\u001b[0m \u001b[1;32mTrue\u001b[0m\u001b[1;33m\u001b[0m\u001b[1;33m\u001b[0m\u001b[0m\n\u001b[1;32m--> 521\u001b[1;33m             \u001b[1;32mraise\u001b[0m \u001b[0me\u001b[0m\u001b[1;33m\u001b[0m\u001b[1;33m\u001b[0m\u001b[0m\n\u001b[0m\u001b[0;32m    522\u001b[0m         \u001b[1;32mfinally\u001b[0m\u001b[1;33m:\u001b[0m\u001b[1;33m\u001b[0m\u001b[1;33m\u001b[0m\u001b[0m\n\u001b[0;32m    523\u001b[0m             \u001b[0mself\u001b[0m\u001b[1;33m.\u001b[0m\u001b[0mdriver\u001b[0m\u001b[1;33m.\u001b[0m\u001b[0mdestroy\u001b[0m\u001b[1;33m(\u001b[0m\u001b[1;33m)\u001b[0m\u001b[1;33m\u001b[0m\u001b[1;33m\u001b[0m\u001b[0m\n",
      "\u001b[1;32mc:\\flask_projects\\miniconda\\envs\\lavague_dev\\Lib\\site-packages\\lavague\\core\\agents.py\u001b[0m in \u001b[0;36mrun\u001b[1;34m(self, objective, user_data, display, log_to_db, step_by_step)\u001b[0m\n\u001b[0;32m    504\u001b[0m         \u001b[1;32mtry\u001b[0m\u001b[1;33m:\u001b[0m\u001b[1;33m\u001b[0m\u001b[1;33m\u001b[0m\u001b[0m\n\u001b[0;32m    505\u001b[0m             \u001b[1;32mfor\u001b[0m \u001b[0m_\u001b[0m \u001b[1;32min\u001b[0m \u001b[0mrange\u001b[0m\u001b[1;33m(\u001b[0m\u001b[0mself\u001b[0m\u001b[1;33m.\u001b[0m\u001b[0mn_steps\u001b[0m\u001b[1;33m)\u001b[0m\u001b[1;33m:\u001b[0m\u001b[1;33m\u001b[0m\u001b[1;33m\u001b[0m\u001b[0m\n\u001b[1;32m--> 506\u001b[1;33m                 \u001b[0mresult\u001b[0m \u001b[1;33m=\u001b[0m \u001b[0mself\u001b[0m\u001b[1;33m.\u001b[0m\u001b[0mrun_step\u001b[0m\u001b[1;33m(\u001b[0m\u001b[0mobjective\u001b[0m\u001b[1;33m)\u001b[0m\u001b[1;33m\u001b[0m\u001b[1;33m\u001b[0m\u001b[0m\n\u001b[0m\u001b[0;32m    507\u001b[0m \u001b[1;33m\u001b[0m\u001b[0m\n\u001b[0;32m    508\u001b[0m                 \u001b[1;32mif\u001b[0m \u001b[0mresult\u001b[0m \u001b[1;32mis\u001b[0m \u001b[1;32mnot\u001b[0m \u001b[1;32mNone\u001b[0m\u001b[1;33m:\u001b[0m\u001b[1;33m\u001b[0m\u001b[1;33m\u001b[0m\u001b[0m\n",
      "\u001b[1;32mc:\\flask_projects\\miniconda\\envs\\lavague_dev\\Lib\\site-packages\\lavague\\core\\agents.py\u001b[0m in \u001b[0;36mrun_step\u001b[1;34m(self, objective)\u001b[0m\n\u001b[0;32m    468\u001b[0m             \u001b[1;32mreturn\u001b[0m \u001b[0mself\u001b[0m\u001b[1;33m.\u001b[0m\u001b[0mresult\u001b[0m\u001b[1;33m\u001b[0m\u001b[1;33m\u001b[0m\u001b[0m\n\u001b[0;32m    469\u001b[0m \u001b[1;33m\u001b[0m\u001b[0m\n\u001b[1;32m--> 470\u001b[1;33m         action_result = self.action_engine.dispatch_instruction(\n\u001b[0m\u001b[0;32m    471\u001b[0m             \u001b[0mnext_engine_name\u001b[0m\u001b[1;33m,\u001b[0m \u001b[0minstruction\u001b[0m\u001b[1;33m\u001b[0m\u001b[1;33m\u001b[0m\u001b[0m\n\u001b[0;32m    472\u001b[0m         \u001b[1;33m)\u001b[0m\u001b[1;33m\u001b[0m\u001b[1;33m\u001b[0m\u001b[0m\n",
      "\u001b[1;32mc:\\flask_projects\\miniconda\\envs\\lavague_dev\\Lib\\site-packages\\lavague\\core\\action_engine.py\u001b[0m in \u001b[0;36mdispatch_instruction\u001b[1;34m(self, next_engine_name, instruction)\u001b[0m\n\u001b[0;32m    236\u001b[0m \u001b[1;33m\u001b[0m\u001b[0m\n\u001b[0;32m    237\u001b[0m         \u001b[0mnext_engine\u001b[0m \u001b[1;33m=\u001b[0m \u001b[0mself\u001b[0m\u001b[1;33m.\u001b[0m\u001b[0mengines\u001b[0m\u001b[1;33m[\u001b[0m\u001b[0mnext_engine_name\u001b[0m\u001b[1;33m]\u001b[0m\u001b[1;33m\u001b[0m\u001b[1;33m\u001b[0m\u001b[0m\n\u001b[1;32m--> 238\u001b[1;33m         \u001b[1;32mreturn\u001b[0m \u001b[0mnext_engine\u001b[0m\u001b[1;33m.\u001b[0m\u001b[0mexecute_instruction\u001b[0m\u001b[1;33m(\u001b[0m\u001b[0minstruction\u001b[0m\u001b[1;33m)\u001b[0m\u001b[1;33m\u001b[0m\u001b[1;33m\u001b[0m\u001b[0m\n\u001b[0m\u001b[0;32m    239\u001b[0m \u001b[1;33m\u001b[0m\u001b[0m\n\u001b[0;32m    240\u001b[0m     \u001b[1;32mdef\u001b[0m \u001b[0mget_llm_name\u001b[0m\u001b[1;33m(\u001b[0m\u001b[0mself\u001b[0m\u001b[1;33m)\u001b[0m\u001b[1;33m:\u001b[0m\u001b[1;33m\u001b[0m\u001b[1;33m\u001b[0m\u001b[0m\n",
      "\u001b[1;32mc:\\flask_projects\\miniconda\\envs\\lavague_dev\\Lib\\site-packages\\lavague\\core\\navigation.py\u001b[0m in \u001b[0;36mexecute_instruction\u001b[1;34m(self, instruction)\u001b[0m\n\u001b[0;32m    415\u001b[0m \u001b[1;33m\u001b[0m\u001b[0m\n\u001b[0;32m    416\u001b[0m         \u001b[0mstart\u001b[0m \u001b[1;33m=\u001b[0m \u001b[0mtime\u001b[0m\u001b[1;33m.\u001b[0m\u001b[0mtime\u001b[0m\u001b[1;33m(\u001b[0m\u001b[1;33m)\u001b[0m\u001b[1;33m\u001b[0m\u001b[1;33m\u001b[0m\u001b[0m\n\u001b[1;32m--> 417\u001b[1;33m         \u001b[0msource_nodes\u001b[0m \u001b[1;33m=\u001b[0m \u001b[0mself\u001b[0m\u001b[1;33m.\u001b[0m\u001b[0mget_nodes\u001b[0m\u001b[1;33m(\u001b[0m\u001b[0minstruction\u001b[0m\u001b[1;33m)\u001b[0m\u001b[1;33m\u001b[0m\u001b[1;33m\u001b[0m\u001b[0m\n\u001b[0m\u001b[0;32m    418\u001b[0m         \u001b[0mend\u001b[0m \u001b[1;33m=\u001b[0m \u001b[0mtime\u001b[0m\u001b[1;33m.\u001b[0m\u001b[0mtime\u001b[0m\u001b[1;33m(\u001b[0m\u001b[1;33m)\u001b[0m\u001b[1;33m\u001b[0m\u001b[1;33m\u001b[0m\u001b[0m\n\u001b[0;32m    419\u001b[0m         \u001b[0mretrieval_time\u001b[0m \u001b[1;33m=\u001b[0m \u001b[0mend\u001b[0m \u001b[1;33m-\u001b[0m \u001b[0mstart\u001b[0m\u001b[1;33m\u001b[0m\u001b[1;33m\u001b[0m\u001b[0m\n",
      "\u001b[1;32mc:\\flask_projects\\miniconda\\envs\\lavague_dev\\Lib\\site-packages\\lavague\\core\\navigation.py\u001b[0m in \u001b[0;36mget_nodes\u001b[1;34m(self, query)\u001b[0m\n\u001b[0;32m    153\u001b[0m         \"\"\"\n\u001b[0;32m    154\u001b[0m         \u001b[0mviewport_only\u001b[0m \u001b[1;33m=\u001b[0m \u001b[1;32mnot\u001b[0m \u001b[0mself\u001b[0m\u001b[1;33m.\u001b[0m\u001b[0mdriver\u001b[0m\u001b[1;33m.\u001b[0m\u001b[0mpreviously_scanned\u001b[0m\u001b[1;33m\u001b[0m\u001b[1;33m\u001b[0m\u001b[0m\n\u001b[1;32m--> 155\u001b[1;33m         source_nodes = self.retriever.retrieve(\n\u001b[0m\u001b[0;32m    156\u001b[0m             \u001b[0mQueryBundle\u001b[0m\u001b[1;33m(\u001b[0m\u001b[0mquery_str\u001b[0m\u001b[1;33m=\u001b[0m\u001b[0mquery\u001b[0m\u001b[1;33m)\u001b[0m\u001b[1;33m,\u001b[0m \u001b[1;33m[\u001b[0m\u001b[0mself\u001b[0m\u001b[1;33m.\u001b[0m\u001b[0mdriver\u001b[0m\u001b[1;33m.\u001b[0m\u001b[0mget_html\u001b[0m\u001b[1;33m(\u001b[0m\u001b[1;33m)\u001b[0m\u001b[1;33m]\u001b[0m\u001b[1;33m,\u001b[0m \u001b[0mviewport_only\u001b[0m\u001b[1;33m\u001b[0m\u001b[1;33m\u001b[0m\u001b[0m\n\u001b[0;32m    157\u001b[0m         \u001b[1;33m)\u001b[0m\u001b[1;33m\u001b[0m\u001b[1;33m\u001b[0m\u001b[0m\n",
      "\u001b[1;32mc:\\flask_projects\\miniconda\\envs\\lavague_dev\\Lib\\site-packages\\lavague\\core\\retrievers.py\u001b[0m in \u001b[0;36mretrieve\u001b[1;34m(self, query, html_nodes, viewport_only)\u001b[0m\n\u001b[0;32m     48\u001b[0m     \u001b[1;33m)\u001b[0m \u001b[1;33m->\u001b[0m \u001b[0mList\u001b[0m\u001b[1;33m[\u001b[0m\u001b[0mstr\u001b[0m\u001b[1;33m]\u001b[0m\u001b[1;33m:\u001b[0m\u001b[1;33m\u001b[0m\u001b[1;33m\u001b[0m\u001b[0m\n\u001b[0;32m     49\u001b[0m         \u001b[1;32mfor\u001b[0m \u001b[0mretriever\u001b[0m \u001b[1;32min\u001b[0m \u001b[0mself\u001b[0m\u001b[1;33m.\u001b[0m\u001b[0mretrievers\u001b[0m\u001b[1;33m:\u001b[0m\u001b[1;33m\u001b[0m\u001b[1;33m\u001b[0m\u001b[0m\n\u001b[1;32m---> 50\u001b[1;33m             \u001b[0mhtml_nodes\u001b[0m \u001b[1;33m=\u001b[0m \u001b[0mretriever\u001b[0m\u001b[1;33m.\u001b[0m\u001b[0mretrieve\u001b[0m\u001b[1;33m(\u001b[0m\u001b[0mquery\u001b[0m\u001b[1;33m,\u001b[0m \u001b[0mhtml_nodes\u001b[0m\u001b[1;33m,\u001b[0m \u001b[0mviewport_only\u001b[0m\u001b[1;33m)\u001b[0m\u001b[1;33m\u001b[0m\u001b[1;33m\u001b[0m\u001b[0m\n\u001b[0m\u001b[0;32m     51\u001b[0m         \u001b[1;32mreturn\u001b[0m \u001b[0mhtml_nodes\u001b[0m\u001b[1;33m\u001b[0m\u001b[1;33m\u001b[0m\u001b[0m\n\u001b[0;32m     52\u001b[0m \u001b[1;33m\u001b[0m\u001b[0m\n",
      "\u001b[1;32mc:\\flask_projects\\miniconda\\envs\\lavague_dev\\Lib\\site-packages\\lavague\\core\\retrievers.py\u001b[0m in \u001b[0;36mretrieve\u001b[1;34m(self, query, html_chunks, viewport_only)\u001b[0m\n\u001b[0;32m    490\u001b[0m             \u001b[0mnodes\u001b[0m \u001b[1;33m=\u001b[0m \u001b[0mfilter_for_xpathed_nodes\u001b[0m\u001b[1;33m(\u001b[0m\u001b[0mnodes\u001b[0m\u001b[1;33m)\u001b[0m\u001b[1;33m\u001b[0m\u001b[1;33m\u001b[0m\u001b[0m\n\u001b[0;32m    491\u001b[0m \u001b[1;33m\u001b[0m\u001b[0m\n\u001b[1;32m--> 492\u001b[1;33m         \u001b[0mindex\u001b[0m \u001b[1;33m=\u001b[0m \u001b[0mVectorStoreIndex\u001b[0m\u001b[1;33m(\u001b[0m\u001b[0mnodes\u001b[0m\u001b[1;33m=\u001b[0m\u001b[0mnodes\u001b[0m\u001b[1;33m,\u001b[0m \u001b[0membed_model\u001b[0m\u001b[1;33m=\u001b[0m\u001b[0mself\u001b[0m\u001b[1;33m.\u001b[0m\u001b[0membedding\u001b[0m\u001b[1;33m)\u001b[0m\u001b[1;33m\u001b[0m\u001b[1;33m\u001b[0m\u001b[0m\n\u001b[0m\u001b[0;32m    493\u001b[0m         \u001b[0mquery_engine\u001b[0m \u001b[1;33m=\u001b[0m \u001b[0mindex\u001b[0m\u001b[1;33m.\u001b[0m\u001b[0mas_retriever\u001b[0m\u001b[1;33m(\u001b[0m\u001b[0msimilarity_top_k\u001b[0m\u001b[1;33m=\u001b[0m\u001b[0mself\u001b[0m\u001b[1;33m.\u001b[0m\u001b[0mtop_k\u001b[0m\u001b[1;33m)\u001b[0m\u001b[1;33m\u001b[0m\u001b[1;33m\u001b[0m\u001b[0m\n\u001b[0;32m    494\u001b[0m \u001b[1;33m\u001b[0m\u001b[0m\n",
      "\u001b[1;32mc:\\flask_projects\\miniconda\\envs\\lavague_dev\\Lib\\site-packages\\llama_index\\core\\indices\\vector_store\\base.py\u001b[0m in \u001b[0;36m__init__\u001b[1;34m(self, nodes, use_async, store_nodes_override, embed_model, insert_batch_size, objects, index_struct, storage_context, callback_manager, transformations, show_progress, service_context, **kwargs)\u001b[0m\n\u001b[0;32m     67\u001b[0m         \u001b[0mself\u001b[0m\u001b[1;33m.\u001b[0m\u001b[0m_store_nodes_override\u001b[0m \u001b[1;33m=\u001b[0m \u001b[0mstore_nodes_override\u001b[0m\u001b[1;33m\u001b[0m\u001b[1;33m\u001b[0m\u001b[0m\n\u001b[0;32m     68\u001b[0m         self._embed_model = (\n\u001b[1;32m---> 69\u001b[1;33m             \u001b[0mresolve_embed_model\u001b[0m\u001b[1;33m(\u001b[0m\u001b[0membed_model\u001b[0m\u001b[1;33m,\u001b[0m \u001b[0mcallback_manager\u001b[0m\u001b[1;33m=\u001b[0m\u001b[0mcallback_manager\u001b[0m\u001b[1;33m)\u001b[0m\u001b[1;33m\u001b[0m\u001b[1;33m\u001b[0m\u001b[0m\n\u001b[0m\u001b[0;32m     70\u001b[0m             \u001b[1;32mif\u001b[0m \u001b[0membed_model\u001b[0m\u001b[1;33m\u001b[0m\u001b[1;33m\u001b[0m\u001b[0m\n\u001b[0;32m     71\u001b[0m             \u001b[1;32melse\u001b[0m \u001b[0membed_model_from_settings_or_context\u001b[0m\u001b[1;33m(\u001b[0m\u001b[0mSettings\u001b[0m\u001b[1;33m,\u001b[0m \u001b[0mservice_context\u001b[0m\u001b[1;33m)\u001b[0m\u001b[1;33m\u001b[0m\u001b[1;33m\u001b[0m\u001b[0m\n",
      "\u001b[1;32mc:\\flask_projects\\miniconda\\envs\\lavague_dev\\Lib\\site-packages\\llama_index\\core\\embeddings\\utils.py\u001b[0m in \u001b[0;36mresolve_embed_model\u001b[1;34m(embed_model, callback_manager)\u001b[0m\n\u001b[0;32m     37\u001b[0m \u001b[1;33m\u001b[0m\u001b[0m\n\u001b[0;32m     38\u001b[0m     \u001b[1;32mtry\u001b[0m\u001b[1;33m:\u001b[0m\u001b[1;33m\u001b[0m\u001b[1;33m\u001b[0m\u001b[0m\n\u001b[1;32m---> 39\u001b[1;33m         \u001b[1;32mfrom\u001b[0m \u001b[0mllama_index\u001b[0m\u001b[1;33m.\u001b[0m\u001b[0mcore\u001b[0m\u001b[1;33m.\u001b[0m\u001b[0mbridge\u001b[0m\u001b[1;33m.\u001b[0m\u001b[0mlangchain\u001b[0m \u001b[1;32mimport\u001b[0m \u001b[0mEmbeddings\u001b[0m \u001b[1;32mas\u001b[0m \u001b[0mLCEmbeddings\u001b[0m\u001b[1;33m\u001b[0m\u001b[1;33m\u001b[0m\u001b[0m\n\u001b[0m\u001b[0;32m     40\u001b[0m     \u001b[1;32mexcept\u001b[0m \u001b[0mImportError\u001b[0m\u001b[1;33m:\u001b[0m\u001b[1;33m\u001b[0m\u001b[1;33m\u001b[0m\u001b[0m\n\u001b[0;32m     41\u001b[0m         \u001b[0mLCEmbeddings\u001b[0m \u001b[1;33m=\u001b[0m \u001b[1;32mNone\u001b[0m  \u001b[1;31m# type: ignore\u001b[0m\u001b[1;33m\u001b[0m\u001b[1;33m\u001b[0m\u001b[0m\n",
      "\u001b[1;32mc:\\flask_projects\\miniconda\\envs\\lavague_dev\\Lib\\site-packages\\llama_index\\core\\bridge\\langchain.py\u001b[0m in \u001b[0;36m<module>\u001b[1;34m\u001b[0m\n\u001b[0;32m     64\u001b[0m \u001b[1;33m)\u001b[0m  \u001b[1;31m# pants: no-infer-dep\u001b[0m\u001b[1;33m\u001b[0m\u001b[1;33m\u001b[0m\u001b[0m\n\u001b[0;32m     65\u001b[0m \u001b[1;32mfrom\u001b[0m \u001b[0mlangchain\u001b[0m\u001b[1;33m.\u001b[0m\u001b[0mtools\u001b[0m \u001b[1;32mimport\u001b[0m \u001b[0mBaseTool\u001b[0m\u001b[1;33m,\u001b[0m \u001b[0mStructuredTool\u001b[0m\u001b[1;33m,\u001b[0m \u001b[0mTool\u001b[0m  \u001b[1;31m# pants: no-infer-dep\u001b[0m\u001b[1;33m\u001b[0m\u001b[1;33m\u001b[0m\u001b[0m\n\u001b[1;32m---> 66\u001b[1;33m from langchain_community.chat_models import (\n\u001b[0m\u001b[0;32m     67\u001b[0m     \u001b[0mChatAnyscale\u001b[0m\u001b[1;33m,\u001b[0m\u001b[1;33m\u001b[0m\u001b[1;33m\u001b[0m\u001b[0m\n\u001b[0;32m     68\u001b[0m     \u001b[0mChatOpenAI\u001b[0m\u001b[1;33m,\u001b[0m\u001b[1;33m\u001b[0m\u001b[1;33m\u001b[0m\u001b[0m\n",
      "\u001b[1;32mc:\\flask_projects\\miniconda\\envs\\lavague_dev\\Lib\\importlib\\_bootstrap.py\u001b[0m in \u001b[0;36m_handle_fromlist\u001b[1;34m(module, fromlist, import_, recursive)\u001b[0m\n",
      "\u001b[1;32mc:\\flask_projects\\miniconda\\envs\\lavague_dev\\Lib\\site-packages\\langchain_community\\chat_models\\__init__.py\u001b[0m in \u001b[0;36m__getattr__\u001b[1;34m(name)\u001b[0m\n\u001b[0;32m    269\u001b[0m \u001b[1;32mdef\u001b[0m \u001b[0m__getattr__\u001b[0m\u001b[1;33m(\u001b[0m\u001b[0mname\u001b[0m\u001b[1;33m:\u001b[0m \u001b[0mstr\u001b[0m\u001b[1;33m)\u001b[0m \u001b[1;33m->\u001b[0m \u001b[0mAny\u001b[0m\u001b[1;33m:\u001b[0m\u001b[1;33m\u001b[0m\u001b[1;33m\u001b[0m\u001b[0m\n\u001b[0;32m    270\u001b[0m     \u001b[1;32mif\u001b[0m \u001b[0mname\u001b[0m \u001b[1;32min\u001b[0m \u001b[0m_module_lookup\u001b[0m\u001b[1;33m:\u001b[0m\u001b[1;33m\u001b[0m\u001b[1;33m\u001b[0m\u001b[0m\n\u001b[1;32m--> 271\u001b[1;33m         \u001b[0mmodule\u001b[0m \u001b[1;33m=\u001b[0m \u001b[0mimportlib\u001b[0m\u001b[1;33m.\u001b[0m\u001b[0mimport_module\u001b[0m\u001b[1;33m(\u001b[0m\u001b[0m_module_lookup\u001b[0m\u001b[1;33m[\u001b[0m\u001b[0mname\u001b[0m\u001b[1;33m]\u001b[0m\u001b[1;33m)\u001b[0m\u001b[1;33m\u001b[0m\u001b[1;33m\u001b[0m\u001b[0m\n\u001b[0m\u001b[0;32m    272\u001b[0m         \u001b[1;32mreturn\u001b[0m \u001b[0mgetattr\u001b[0m\u001b[1;33m(\u001b[0m\u001b[0mmodule\u001b[0m\u001b[1;33m,\u001b[0m \u001b[0mname\u001b[0m\u001b[1;33m)\u001b[0m\u001b[1;33m\u001b[0m\u001b[1;33m\u001b[0m\u001b[0m\n\u001b[0;32m    273\u001b[0m     \u001b[1;32mraise\u001b[0m \u001b[0mAttributeError\u001b[0m\u001b[1;33m(\u001b[0m\u001b[1;33mf\"\u001b[0m\u001b[1;33mmodule \u001b[0m\u001b[1;33m{\u001b[0m\u001b[0m__name__\u001b[0m\u001b[1;33m}\u001b[0m\u001b[1;33m has no attribute \u001b[0m\u001b[1;33m{\u001b[0m\u001b[0mname\u001b[0m\u001b[1;33m}\u001b[0m\u001b[1;33m\"\u001b[0m\u001b[1;33m)\u001b[0m\u001b[1;33m\u001b[0m\u001b[1;33m\u001b[0m\u001b[0m\n",
      "\u001b[1;32mc:\\flask_projects\\miniconda\\envs\\lavague_dev\\Lib\\importlib\\__init__.py\u001b[0m in \u001b[0;36mimport_module\u001b[1;34m(name, package)\u001b[0m\n\u001b[0;32m     88\u001b[0m                 \u001b[1;32mbreak\u001b[0m\u001b[1;33m\u001b[0m\u001b[1;33m\u001b[0m\u001b[0m\n\u001b[0;32m     89\u001b[0m             \u001b[0mlevel\u001b[0m \u001b[1;33m+=\u001b[0m \u001b[1;36m1\u001b[0m\u001b[1;33m\u001b[0m\u001b[1;33m\u001b[0m\u001b[0m\n\u001b[1;32m---> 90\u001b[1;33m     \u001b[1;32mreturn\u001b[0m \u001b[0m_bootstrap\u001b[0m\u001b[1;33m.\u001b[0m\u001b[0m_gcd_import\u001b[0m\u001b[1;33m(\u001b[0m\u001b[0mname\u001b[0m\u001b[1;33m[\u001b[0m\u001b[0mlevel\u001b[0m\u001b[1;33m:\u001b[0m\u001b[1;33m]\u001b[0m\u001b[1;33m,\u001b[0m \u001b[0mpackage\u001b[0m\u001b[1;33m,\u001b[0m \u001b[0mlevel\u001b[0m\u001b[1;33m)\u001b[0m\u001b[1;33m\u001b[0m\u001b[1;33m\u001b[0m\u001b[0m\n\u001b[0m\u001b[0;32m     91\u001b[0m \u001b[1;33m\u001b[0m\u001b[0m\n\u001b[0;32m     92\u001b[0m \u001b[1;33m\u001b[0m\u001b[0m\n",
      "\u001b[1;32mc:\\flask_projects\\miniconda\\envs\\lavague_dev\\Lib\\site-packages\\langchain_community\\chat_models\\anyscale.py\u001b[0m in \u001b[0;36m<module>\u001b[1;34m\u001b[0m\n\u001b[0;32m     28\u001b[0m \u001b[1;33m\u001b[0m\u001b[0m\n\u001b[0;32m     29\u001b[0m \u001b[1;33m\u001b[0m\u001b[0m\n\u001b[1;32m---> 30\u001b[1;33m \u001b[1;32mclass\u001b[0m \u001b[0mChatAnyscale\u001b[0m\u001b[1;33m(\u001b[0m\u001b[0mChatOpenAI\u001b[0m\u001b[1;33m)\u001b[0m\u001b[1;33m:\u001b[0m\u001b[1;33m\u001b[0m\u001b[1;33m\u001b[0m\u001b[0m\n\u001b[0m\u001b[0;32m     31\u001b[0m     \"\"\"`Anyscale` Chat large language models.\n\u001b[0;32m     32\u001b[0m \u001b[1;33m\u001b[0m\u001b[0m\n",
      "\u001b[1;32mc:\\flask_projects\\miniconda\\envs\\lavague_dev\\Lib\\site-packages\\pydantic\\_internal\\_model_construction.py\u001b[0m in \u001b[0;36m__new__\u001b[1;34m(mcs, cls_name, bases, namespace, __pydantic_generic_metadata__, __pydantic_reset_parent_namespace__, _create_model_module, **kwargs)\u001b[0m\n\u001b[0;32m    203\u001b[0m                 \u001b[0mset_default_hash_func\u001b[0m\u001b[1;33m(\u001b[0m\u001b[0mcls\u001b[0m\u001b[1;33m,\u001b[0m \u001b[0mbases\u001b[0m\u001b[1;33m)\u001b[0m\u001b[1;33m\u001b[0m\u001b[1;33m\u001b[0m\u001b[0m\n\u001b[0;32m    204\u001b[0m \u001b[1;33m\u001b[0m\u001b[0m\n\u001b[1;32m--> 205\u001b[1;33m             complete_model_class(\n\u001b[0m\u001b[0;32m    206\u001b[0m                 \u001b[0mcls\u001b[0m\u001b[1;33m,\u001b[0m\u001b[1;33m\u001b[0m\u001b[1;33m\u001b[0m\u001b[0m\n\u001b[0;32m    207\u001b[0m                 \u001b[0mcls_name\u001b[0m\u001b[1;33m,\u001b[0m\u001b[1;33m\u001b[0m\u001b[1;33m\u001b[0m\u001b[0m\n",
      "\u001b[1;32mc:\\flask_projects\\miniconda\\envs\\lavague_dev\\Lib\\site-packages\\pydantic\\_internal\\_model_construction.py\u001b[0m in \u001b[0;36mcomplete_model_class\u001b[1;34m(cls, cls_name, config_wrapper, raise_errors, types_namespace, create_model_module)\u001b[0m\n\u001b[0;32m    532\u001b[0m \u001b[1;33m\u001b[0m\u001b[0m\n\u001b[0;32m    533\u001b[0m     \u001b[1;32mtry\u001b[0m\u001b[1;33m:\u001b[0m\u001b[1;33m\u001b[0m\u001b[1;33m\u001b[0m\u001b[0m\n\u001b[1;32m--> 534\u001b[1;33m         \u001b[0mschema\u001b[0m \u001b[1;33m=\u001b[0m \u001b[0mcls\u001b[0m\u001b[1;33m.\u001b[0m\u001b[0m__get_pydantic_core_schema__\u001b[0m\u001b[1;33m(\u001b[0m\u001b[0mcls\u001b[0m\u001b[1;33m,\u001b[0m \u001b[0mhandler\u001b[0m\u001b[1;33m)\u001b[0m\u001b[1;33m\u001b[0m\u001b[1;33m\u001b[0m\u001b[0m\n\u001b[0m\u001b[0;32m    535\u001b[0m     \u001b[1;32mexcept\u001b[0m \u001b[0mPydanticUndefinedAnnotation\u001b[0m \u001b[1;32mas\u001b[0m \u001b[0me\u001b[0m\u001b[1;33m:\u001b[0m\u001b[1;33m\u001b[0m\u001b[1;33m\u001b[0m\u001b[0m\n\u001b[0;32m    536\u001b[0m         \u001b[1;32mif\u001b[0m \u001b[0mraise_errors\u001b[0m\u001b[1;33m:\u001b[0m\u001b[1;33m\u001b[0m\u001b[1;33m\u001b[0m\u001b[0m\n",
      "\u001b[1;32mc:\\flask_projects\\miniconda\\envs\\lavague_dev\\Lib\\site-packages\\pydantic\\main.py\u001b[0m in \u001b[0;36m__get_pydantic_core_schema__\u001b[1;34m(cls, source, handler)\u001b[0m\n\u001b[0;32m    641\u001b[0m                 \u001b[1;32mreturn\u001b[0m \u001b[0mcls\u001b[0m\u001b[1;33m.\u001b[0m\u001b[0m__pydantic_core_schema__\u001b[0m\u001b[1;33m\u001b[0m\u001b[1;33m\u001b[0m\u001b[0m\n\u001b[0;32m    642\u001b[0m \u001b[1;33m\u001b[0m\u001b[0m\n\u001b[1;32m--> 643\u001b[1;33m         \u001b[1;32mreturn\u001b[0m \u001b[0mhandler\u001b[0m\u001b[1;33m(\u001b[0m\u001b[0msource\u001b[0m\u001b[1;33m)\u001b[0m\u001b[1;33m\u001b[0m\u001b[1;33m\u001b[0m\u001b[0m\n\u001b[0m\u001b[0;32m    644\u001b[0m \u001b[1;33m\u001b[0m\u001b[0m\n\u001b[0;32m    645\u001b[0m     \u001b[1;33m@\u001b[0m\u001b[0mclassmethod\u001b[0m\u001b[1;33m\u001b[0m\u001b[1;33m\u001b[0m\u001b[0m\n",
      "\u001b[1;32mc:\\flask_projects\\miniconda\\envs\\lavague_dev\\Lib\\site-packages\\pydantic\\_internal\\_schema_generation_shared.py\u001b[0m in \u001b[0;36m__call__\u001b[1;34m(self, source_type)\u001b[0m\n\u001b[0;32m     81\u001b[0m \u001b[1;33m\u001b[0m\u001b[0m\n\u001b[0;32m     82\u001b[0m     \u001b[1;32mdef\u001b[0m \u001b[0m__call__\u001b[0m\u001b[1;33m(\u001b[0m\u001b[0mself\u001b[0m\u001b[1;33m,\u001b[0m \u001b[0msource_type\u001b[0m\u001b[1;33m:\u001b[0m \u001b[0mAny\u001b[0m\u001b[1;33m,\u001b[0m \u001b[1;33m/\u001b[0m\u001b[1;33m)\u001b[0m \u001b[1;33m->\u001b[0m \u001b[0mcore_schema\u001b[0m\u001b[1;33m.\u001b[0m\u001b[0mCoreSchema\u001b[0m\u001b[1;33m:\u001b[0m\u001b[1;33m\u001b[0m\u001b[1;33m\u001b[0m\u001b[0m\n\u001b[1;32m---> 83\u001b[1;33m         \u001b[0mschema\u001b[0m \u001b[1;33m=\u001b[0m \u001b[0mself\u001b[0m\u001b[1;33m.\u001b[0m\u001b[0m_handler\u001b[0m\u001b[1;33m(\u001b[0m\u001b[0msource_type\u001b[0m\u001b[1;33m)\u001b[0m\u001b[1;33m\u001b[0m\u001b[1;33m\u001b[0m\u001b[0m\n\u001b[0m\u001b[0;32m     84\u001b[0m         \u001b[0mref\u001b[0m \u001b[1;33m=\u001b[0m \u001b[0mschema\u001b[0m\u001b[1;33m.\u001b[0m\u001b[0mget\u001b[0m\u001b[1;33m(\u001b[0m\u001b[1;34m'ref'\u001b[0m\u001b[1;33m)\u001b[0m\u001b[1;33m\u001b[0m\u001b[1;33m\u001b[0m\u001b[0m\n\u001b[0;32m     85\u001b[0m         \u001b[1;32mif\u001b[0m \u001b[0mself\u001b[0m\u001b[1;33m.\u001b[0m\u001b[0m_ref_mode\u001b[0m \u001b[1;33m==\u001b[0m \u001b[1;34m'to-def'\u001b[0m\u001b[1;33m:\u001b[0m\u001b[1;33m\u001b[0m\u001b[1;33m\u001b[0m\u001b[0m\n",
      "\u001b[1;32mc:\\flask_projects\\miniconda\\envs\\lavague_dev\\Lib\\site-packages\\pydantic\\_internal\\_generate_schema.py\u001b[0m in \u001b[0;36mgenerate_schema\u001b[1;34m(self, obj, from_dunder_get_core_schema)\u001b[0m\n\u001b[0;32m    510\u001b[0m \u001b[1;33m\u001b[0m\u001b[0m\n\u001b[0;32m    511\u001b[0m         \u001b[1;32mif\u001b[0m \u001b[0mschema\u001b[0m \u001b[1;32mis\u001b[0m \u001b[1;32mNone\u001b[0m\u001b[1;33m:\u001b[0m\u001b[1;33m\u001b[0m\u001b[1;33m\u001b[0m\u001b[0m\n\u001b[1;32m--> 512\u001b[1;33m             \u001b[0mschema\u001b[0m \u001b[1;33m=\u001b[0m \u001b[0mself\u001b[0m\u001b[1;33m.\u001b[0m\u001b[0m_generate_schema_inner\u001b[0m\u001b[1;33m(\u001b[0m\u001b[0mobj\u001b[0m\u001b[1;33m)\u001b[0m\u001b[1;33m\u001b[0m\u001b[1;33m\u001b[0m\u001b[0m\n\u001b[0m\u001b[0;32m    513\u001b[0m \u001b[1;33m\u001b[0m\u001b[0m\n\u001b[0;32m    514\u001b[0m         \u001b[0mmetadata_js_function\u001b[0m \u001b[1;33m=\u001b[0m \u001b[0m_extract_get_pydantic_json_schema\u001b[0m\u001b[1;33m(\u001b[0m\u001b[0mobj\u001b[0m\u001b[1;33m,\u001b[0m \u001b[0mschema\u001b[0m\u001b[1;33m)\u001b[0m\u001b[1;33m\u001b[0m\u001b[1;33m\u001b[0m\u001b[0m\n",
      "\u001b[1;32mc:\\flask_projects\\miniconda\\envs\\lavague_dev\\Lib\\site-packages\\pydantic\\_internal\\_generate_schema.py\u001b[0m in \u001b[0;36m_generate_schema_inner\u001b[1;34m(self, obj)\u001b[0m\n\u001b[0;32m    782\u001b[0m         \u001b[1;32mif\u001b[0m \u001b[0mlenient_issubclass\u001b[0m\u001b[1;33m(\u001b[0m\u001b[0mobj\u001b[0m\u001b[1;33m,\u001b[0m \u001b[0mBaseModel\u001b[0m\u001b[1;33m)\u001b[0m\u001b[1;33m:\u001b[0m\u001b[1;33m\u001b[0m\u001b[1;33m\u001b[0m\u001b[0m\n\u001b[0;32m    783\u001b[0m             \u001b[1;32mwith\u001b[0m \u001b[0mself\u001b[0m\u001b[1;33m.\u001b[0m\u001b[0mmodel_type_stack\u001b[0m\u001b[1;33m.\u001b[0m\u001b[0mpush\u001b[0m\u001b[1;33m(\u001b[0m\u001b[0mobj\u001b[0m\u001b[1;33m)\u001b[0m\u001b[1;33m:\u001b[0m\u001b[1;33m\u001b[0m\u001b[1;33m\u001b[0m\u001b[0m\n\u001b[1;32m--> 784\u001b[1;33m                 \u001b[1;32mreturn\u001b[0m \u001b[0mself\u001b[0m\u001b[1;33m.\u001b[0m\u001b[0m_model_schema\u001b[0m\u001b[1;33m(\u001b[0m\u001b[0mobj\u001b[0m\u001b[1;33m)\u001b[0m\u001b[1;33m\u001b[0m\u001b[1;33m\u001b[0m\u001b[0m\n\u001b[0m\u001b[0;32m    785\u001b[0m \u001b[1;33m\u001b[0m\u001b[0m\n\u001b[0;32m    786\u001b[0m         \u001b[1;32mif\u001b[0m \u001b[0misinstance\u001b[0m\u001b[1;33m(\u001b[0m\u001b[0mobj\u001b[0m\u001b[1;33m,\u001b[0m \u001b[0mPydanticRecursiveRef\u001b[0m\u001b[1;33m)\u001b[0m\u001b[1;33m:\u001b[0m\u001b[1;33m\u001b[0m\u001b[1;33m\u001b[0m\u001b[0m\n",
      "\u001b[1;32mc:\\flask_projects\\miniconda\\envs\\lavague_dev\\Lib\\site-packages\\pydantic\\_internal\\_generate_schema.py\u001b[0m in \u001b[0;36m_model_schema\u001b[1;34m(self, cls)\u001b[0m\n\u001b[0;32m    589\u001b[0m                 \u001b[1;32melse\u001b[0m\u001b[1;33m:\u001b[0m\u001b[1;33m\u001b[0m\u001b[1;33m\u001b[0m\u001b[0m\n\u001b[0;32m    590\u001b[0m                     fields_schema: core_schema.CoreSchema = core_schema.model_fields_schema(\n\u001b[1;32m--> 591\u001b[1;33m                         \u001b[1;33m{\u001b[0m\u001b[0mk\u001b[0m\u001b[1;33m:\u001b[0m \u001b[0mself\u001b[0m\u001b[1;33m.\u001b[0m\u001b[0m_generate_md_field_schema\u001b[0m\u001b[1;33m(\u001b[0m\u001b[0mk\u001b[0m\u001b[1;33m,\u001b[0m \u001b[0mv\u001b[0m\u001b[1;33m,\u001b[0m \u001b[0mdecorators\u001b[0m\u001b[1;33m)\u001b[0m \u001b[1;32mfor\u001b[0m \u001b[0mk\u001b[0m\u001b[1;33m,\u001b[0m \u001b[0mv\u001b[0m \u001b[1;32min\u001b[0m \u001b[0mfields\u001b[0m\u001b[1;33m.\u001b[0m\u001b[0mitems\u001b[0m\u001b[1;33m(\u001b[0m\u001b[1;33m)\u001b[0m\u001b[1;33m}\u001b[0m\u001b[1;33m,\u001b[0m\u001b[1;33m\u001b[0m\u001b[1;33m\u001b[0m\u001b[0m\n\u001b[0m\u001b[0;32m    592\u001b[0m                         computed_fields=[\n\u001b[0;32m    593\u001b[0m                             \u001b[0mself\u001b[0m\u001b[1;33m.\u001b[0m\u001b[0m_computed_field_schema\u001b[0m\u001b[1;33m(\u001b[0m\u001b[0md\u001b[0m\u001b[1;33m,\u001b[0m \u001b[0mdecorators\u001b[0m\u001b[1;33m.\u001b[0m\u001b[0mfield_serializers\u001b[0m\u001b[1;33m)\u001b[0m\u001b[1;33m\u001b[0m\u001b[1;33m\u001b[0m\u001b[0m\n",
      "\u001b[1;32mc:\\flask_projects\\miniconda\\envs\\lavague_dev\\Lib\\site-packages\\pydantic\\_internal\\_generate_schema.py\u001b[0m in \u001b[0;36m_generate_md_field_schema\u001b[1;34m(self, name, field_info, decorators)\u001b[0m\n\u001b[0;32m    945\u001b[0m     \u001b[1;33m)\u001b[0m \u001b[1;33m->\u001b[0m \u001b[0mcore_schema\u001b[0m\u001b[1;33m.\u001b[0m\u001b[0mModelField\u001b[0m\u001b[1;33m:\u001b[0m\u001b[1;33m\u001b[0m\u001b[1;33m\u001b[0m\u001b[0m\n\u001b[0;32m    946\u001b[0m         \u001b[1;34m\"\"\"Prepare a ModelField to represent a model field.\"\"\"\u001b[0m\u001b[1;33m\u001b[0m\u001b[1;33m\u001b[0m\u001b[0m\n\u001b[1;32m--> 947\u001b[1;33m         \u001b[0mcommon_field\u001b[0m \u001b[1;33m=\u001b[0m \u001b[0mself\u001b[0m\u001b[1;33m.\u001b[0m\u001b[0m_common_field_schema\u001b[0m\u001b[1;33m(\u001b[0m\u001b[0mname\u001b[0m\u001b[1;33m,\u001b[0m \u001b[0mfield_info\u001b[0m\u001b[1;33m,\u001b[0m \u001b[0mdecorators\u001b[0m\u001b[1;33m)\u001b[0m\u001b[1;33m\u001b[0m\u001b[1;33m\u001b[0m\u001b[0m\n\u001b[0m\u001b[0;32m    948\u001b[0m         return core_schema.model_field(\n\u001b[0;32m    949\u001b[0m             \u001b[0mcommon_field\u001b[0m\u001b[1;33m[\u001b[0m\u001b[1;34m'schema'\u001b[0m\u001b[1;33m]\u001b[0m\u001b[1;33m,\u001b[0m\u001b[1;33m\u001b[0m\u001b[1;33m\u001b[0m\u001b[0m\n",
      "\u001b[1;32mc:\\flask_projects\\miniconda\\envs\\lavague_dev\\Lib\\site-packages\\pydantic\\_internal\\_generate_schema.py\u001b[0m in \u001b[0;36m_common_field_schema\u001b[1;34m(self, name, field_info, decorators)\u001b[0m\n\u001b[0;32m   1132\u001b[0m                 \u001b[0mschema\u001b[0m \u001b[1;33m=\u001b[0m \u001b[0mself\u001b[0m\u001b[1;33m.\u001b[0m\u001b[0m_apply_annotations\u001b[0m\u001b[1;33m(\u001b[0m\u001b[0msource_type\u001b[0m\u001b[1;33m,\u001b[0m \u001b[0mannotations\u001b[0m\u001b[1;33m,\u001b[0m \u001b[0mtransform_inner_schema\u001b[0m\u001b[1;33m=\u001b[0m\u001b[0mset_discriminator\u001b[0m\u001b[1;33m)\u001b[0m\u001b[1;33m\u001b[0m\u001b[1;33m\u001b[0m\u001b[0m\n\u001b[0;32m   1133\u001b[0m             \u001b[1;32melse\u001b[0m\u001b[1;33m:\u001b[0m\u001b[1;33m\u001b[0m\u001b[1;33m\u001b[0m\u001b[0m\n\u001b[1;32m-> 1134\u001b[1;33m                 schema = self._apply_annotations(\n\u001b[0m\u001b[0;32m   1135\u001b[0m                     \u001b[0msource_type\u001b[0m\u001b[1;33m,\u001b[0m\u001b[1;33m\u001b[0m\u001b[1;33m\u001b[0m\u001b[0m\n\u001b[0;32m   1136\u001b[0m                     \u001b[0mannotations\u001b[0m\u001b[1;33m,\u001b[0m\u001b[1;33m\u001b[0m\u001b[1;33m\u001b[0m\u001b[0m\n",
      "\u001b[1;32mc:\\flask_projects\\miniconda\\envs\\lavague_dev\\Lib\\site-packages\\pydantic\\_internal\\_generate_schema.py\u001b[0m in \u001b[0;36m_apply_annotations\u001b[1;34m(self, source_type, annotations, transform_inner_schema)\u001b[0m\n\u001b[0;32m   1888\u001b[0m             \u001b[1;33m)\u001b[0m\u001b[1;33m\u001b[0m\u001b[1;33m\u001b[0m\u001b[0m\n\u001b[0;32m   1889\u001b[0m \u001b[1;33m\u001b[0m\u001b[0m\n\u001b[1;32m-> 1890\u001b[1;33m         \u001b[0mschema\u001b[0m \u001b[1;33m=\u001b[0m \u001b[0mget_inner_schema\u001b[0m\u001b[1;33m(\u001b[0m\u001b[0msource_type\u001b[0m\u001b[1;33m)\u001b[0m\u001b[1;33m\u001b[0m\u001b[1;33m\u001b[0m\u001b[0m\n\u001b[0m\u001b[0;32m   1891\u001b[0m         \u001b[1;32mif\u001b[0m \u001b[0mpydantic_js_annotation_functions\u001b[0m\u001b[1;33m:\u001b[0m\u001b[1;33m\u001b[0m\u001b[1;33m\u001b[0m\u001b[0m\n\u001b[0;32m   1892\u001b[0m             \u001b[0mmetadata\u001b[0m \u001b[1;33m=\u001b[0m \u001b[0mCoreMetadataHandler\u001b[0m\u001b[1;33m(\u001b[0m\u001b[0mschema\u001b[0m\u001b[1;33m)\u001b[0m\u001b[1;33m.\u001b[0m\u001b[0mmetadata\u001b[0m\u001b[1;33m\u001b[0m\u001b[1;33m\u001b[0m\u001b[0m\n",
      "\u001b[1;32mc:\\flask_projects\\miniconda\\envs\\lavague_dev\\Lib\\site-packages\\pydantic\\_internal\\_schema_generation_shared.py\u001b[0m in \u001b[0;36m__call__\u001b[1;34m(self, source_type)\u001b[0m\n\u001b[0;32m     81\u001b[0m \u001b[1;33m\u001b[0m\u001b[0m\n\u001b[0;32m     82\u001b[0m     \u001b[1;32mdef\u001b[0m \u001b[0m__call__\u001b[0m\u001b[1;33m(\u001b[0m\u001b[0mself\u001b[0m\u001b[1;33m,\u001b[0m \u001b[0msource_type\u001b[0m\u001b[1;33m:\u001b[0m \u001b[0mAny\u001b[0m\u001b[1;33m,\u001b[0m \u001b[1;33m/\u001b[0m\u001b[1;33m)\u001b[0m \u001b[1;33m->\u001b[0m \u001b[0mcore_schema\u001b[0m\u001b[1;33m.\u001b[0m\u001b[0mCoreSchema\u001b[0m\u001b[1;33m:\u001b[0m\u001b[1;33m\u001b[0m\u001b[1;33m\u001b[0m\u001b[0m\n\u001b[1;32m---> 83\u001b[1;33m         \u001b[0mschema\u001b[0m \u001b[1;33m=\u001b[0m \u001b[0mself\u001b[0m\u001b[1;33m.\u001b[0m\u001b[0m_handler\u001b[0m\u001b[1;33m(\u001b[0m\u001b[0msource_type\u001b[0m\u001b[1;33m)\u001b[0m\u001b[1;33m\u001b[0m\u001b[1;33m\u001b[0m\u001b[0m\n\u001b[0m\u001b[0;32m     84\u001b[0m         \u001b[0mref\u001b[0m \u001b[1;33m=\u001b[0m \u001b[0mschema\u001b[0m\u001b[1;33m.\u001b[0m\u001b[0mget\u001b[0m\u001b[1;33m(\u001b[0m\u001b[1;34m'ref'\u001b[0m\u001b[1;33m)\u001b[0m\u001b[1;33m\u001b[0m\u001b[1;33m\u001b[0m\u001b[0m\n\u001b[0;32m     85\u001b[0m         \u001b[1;32mif\u001b[0m \u001b[0mself\u001b[0m\u001b[1;33m.\u001b[0m\u001b[0m_ref_mode\u001b[0m \u001b[1;33m==\u001b[0m \u001b[1;34m'to-def'\u001b[0m\u001b[1;33m:\u001b[0m\u001b[1;33m\u001b[0m\u001b[1;33m\u001b[0m\u001b[0m\n",
      "\u001b[1;32mc:\\flask_projects\\miniconda\\envs\\lavague_dev\\Lib\\site-packages\\pydantic\\_internal\\_generate_schema.py\u001b[0m in \u001b[0;36minner_handler\u001b[1;34m(obj)\u001b[0m\n\u001b[0;32m   1872\u001b[0m             \u001b[1;32melse\u001b[0m\u001b[1;33m:\u001b[0m\u001b[1;33m\u001b[0m\u001b[1;33m\u001b[0m\u001b[0m\n\u001b[0;32m   1873\u001b[0m                 \u001b[0mschema\u001b[0m \u001b[1;33m=\u001b[0m \u001b[0mfrom_property\u001b[0m\u001b[1;33m\u001b[0m\u001b[1;33m\u001b[0m\u001b[0m\n\u001b[1;32m-> 1874\u001b[1;33m             \u001b[0mmetadata_js_function\u001b[0m \u001b[1;33m=\u001b[0m \u001b[0m_extract_get_pydantic_json_schema\u001b[0m\u001b[1;33m(\u001b[0m\u001b[0mobj\u001b[0m\u001b[1;33m,\u001b[0m \u001b[0mschema\u001b[0m\u001b[1;33m)\u001b[0m\u001b[1;33m\u001b[0m\u001b[1;33m\u001b[0m\u001b[0m\n\u001b[0m\u001b[0;32m   1875\u001b[0m             \u001b[1;32mif\u001b[0m \u001b[0mmetadata_js_function\u001b[0m \u001b[1;32mis\u001b[0m \u001b[1;32mnot\u001b[0m \u001b[1;32mNone\u001b[0m\u001b[1;33m:\u001b[0m\u001b[1;33m\u001b[0m\u001b[1;33m\u001b[0m\u001b[0m\n\u001b[0;32m   1876\u001b[0m                 \u001b[0mmetadata_schema\u001b[0m \u001b[1;33m=\u001b[0m \u001b[0mresolve_original_schema\u001b[0m\u001b[1;33m(\u001b[0m\u001b[0mschema\u001b[0m\u001b[1;33m,\u001b[0m \u001b[0mself\u001b[0m\u001b[1;33m.\u001b[0m\u001b[0mdefs\u001b[0m\u001b[1;33m.\u001b[0m\u001b[0mdefinitions\u001b[0m\u001b[1;33m)\u001b[0m\u001b[1;33m\u001b[0m\u001b[1;33m\u001b[0m\u001b[0m\n",
      "\u001b[1;32mc:\\flask_projects\\miniconda\\envs\\lavague_dev\\Lib\\site-packages\\pydantic\\_internal\\_generate_schema.py\u001b[0m in \u001b[0;36m_extract_get_pydantic_json_schema\u001b[1;34m(tp, schema)\u001b[0m\n\u001b[0;32m   2225\u001b[0m         \u001b[1;32mif\u001b[0m \u001b[1;32mnot\u001b[0m \u001b[0mhas_custom_v2_modify_js_func\u001b[0m\u001b[1;33m:\u001b[0m\u001b[1;33m\u001b[0m\u001b[1;33m\u001b[0m\u001b[0m\n\u001b[0;32m   2226\u001b[0m             \u001b[0mcls_name\u001b[0m \u001b[1;33m=\u001b[0m \u001b[0mgetattr\u001b[0m\u001b[1;33m(\u001b[0m\u001b[0mtp\u001b[0m\u001b[1;33m,\u001b[0m \u001b[1;34m'__name__'\u001b[0m\u001b[1;33m,\u001b[0m \u001b[1;32mNone\u001b[0m\u001b[1;33m)\u001b[0m\u001b[1;33m\u001b[0m\u001b[1;33m\u001b[0m\u001b[0m\n\u001b[1;32m-> 2227\u001b[1;33m             raise PydanticUserError(\n\u001b[0m\u001b[0;32m   2228\u001b[0m                 \u001b[1;33mf'\u001b[0m\u001b[1;33mThe `__modify_schema__` method is not supported in Pydantic v2. \u001b[0m\u001b[1;33m'\u001b[0m\u001b[1;33m\u001b[0m\u001b[1;33m\u001b[0m\u001b[0m\n\u001b[0;32m   2229\u001b[0m                 \u001b[1;33mf'\u001b[0m\u001b[1;33mUse `__get_pydantic_json_schema__` instead\u001b[0m\u001b[1;33m{\u001b[0m\u001b[1;33mf\"\u001b[0m\u001b[1;33m in class `\u001b[0m\u001b[1;33m{\u001b[0m\u001b[0mcls_name\u001b[0m\u001b[1;33m}\u001b[0m\u001b[1;33m`\u001b[0m\u001b[1;33m\"\u001b[0m \u001b[1;32mif\u001b[0m \u001b[0mcls_name\u001b[0m \u001b[1;32melse\u001b[0m \u001b[1;34m\"\"\u001b[0m\u001b[1;33m}\u001b[0m\u001b[1;33m.\u001b[0m\u001b[1;33m'\u001b[0m\u001b[1;33m,\u001b[0m\u001b[1;33m\u001b[0m\u001b[1;33m\u001b[0m\u001b[0m\n",
      "\u001b[1;31mPydanticUserError\u001b[0m: The `__modify_schema__` method is not supported in Pydantic v2. Use `__get_pydantic_json_schema__` instead in class `SecretStr`.\n\nFor further information visit https://errors.pydantic.dev/2.8/u/custom-json-schema"
     ]
    }
   ],
   "source": [
    "from lavague.core import  WorldModel, ActionEngine\n",
    "from lavague.core.agents import WebAgent\n",
    "from lavague.drivers.selenium import SeleniumDriver\n",
    "#===================================================\n",
    "\n",
    "selenium_driver = SeleniumDriver(headless=False)\n",
    "world_model = WorldModel()\n",
    "action_engine = ActionEngine(selenium_driver)\n",
    "agent = WebAgent(world_model, action_engine)\n",
    "agent.get(\"http://192.168.1.176:7001\")\n",
    "#================================================================\n",
    "\n",
    "search_criteria=None\n",
    "target_place = None\n",
    "openai_chain = prompt | openai_llm\n",
    "chain = openai_chain\n",
    "\n",
    "df = pd.read_csv('train_mini.csv')\n",
    "\n",
    "for i,row in df.iterrows():\n",
    "    user_instruction = row[\"OpenAI\"]\n",
    "    print(user_instruction)\n",
    "    result = execute_chain(chain,user_instruction)\n",
    "    print(result)\n",
    "    business = result['Type']\n",
    "    place = result['Place']\n",
    "    param = result['Parameter']\n",
    "    agent.run(f\"search {param} in first search Field {place} in the second search field, and then hit search [button]\")\n",
    "    break"
   ]
  },
  {
   "cell_type": "code",
   "execution_count": 2,
   "metadata": {},
   "outputs": [
    {
     "name": "stderr",
     "output_type": "stream",
     "text": [
      "2024-09-18 02:27:52,605 - INFO - Screenshot folder cleared\n",
      "2024-09-18 02:27:59,434 - INFO - Thoughts:\n",
      "- The current screenshot shows the homepage of a website that appears to be a collaboration between UK and Yelp.\n",
      "- There are two search fields visible: one for the type of food or restaurant and another for the location.\n",
      "- The objective is to search for \"Philadelphia\" in the second search field and then hit search.\n",
      "- The next step should involve entering \"Philadelphia\" in the second search field.\n",
      "\n",
      "Next engine: Navigation Engine\n",
      "Instruction: Click on the second search field (labeled \"Address, neighborhood, city\") and type \"Philadelphia\".\n"
     ]
    },
    {
     "name": "stdout",
     "output_type": "stream",
     "text": [
      "Failed to delete screenshots\\17bd436531acc50422270b2fca612694\\2a40e3cf98f3d2308b2f7a45bd4c4e2f.png. Reason: [WinError 32] The process cannot access the file because it is being used by another process: 'screenshots\\\\17bd436531acc50422270b2fca612694\\\\2a40e3cf98f3d2308b2f7a45bd4c4e2f.png'\n"
     ]
    },
    {
     "name": "stderr",
     "output_type": "stream",
     "text": [
      "2024-09-18 02:28:19,617 - INFO - Thoughts:\n",
      "- The current screenshot shows that \"Philadelphia\" has been typed into the second search field.\n",
      "- A dropdown list with multiple options for \"Philadelphia\" is visible.\n",
      "- The next step is to select the correct \"Philadelphia\" option from the dropdown list to proceed with the search.\n",
      "\n",
      "Next engine: Navigation Engine\n",
      "Instruction: Click on \"Philadelphia, PA\" in the dropdown list.\n"
     ]
    },
    {
     "name": "stdout",
     "output_type": "stream",
     "text": [
      "Failed to delete screenshots\\17bd436531acc50422270b2fca612694\\2a40e3cf98f3d2308b2f7a45bd4c4e2f.png. Reason: [WinError 32] The process cannot access the file because it is being used by another process: 'screenshots\\\\17bd436531acc50422270b2fca612694\\\\2a40e3cf98f3d2308b2f7a45bd4c4e2f.png'\n",
      "Failed to delete screenshots\\17bd436531acc50422270b2fca612694\\62011bfee93a4745e42ef4ae04d0b005.png. Reason: [WinError 32] The process cannot access the file because it is being used by another process: 'screenshots\\\\17bd436531acc50422270b2fca612694\\\\62011bfee93a4745e42ef4ae04d0b005.png'\n"
     ]
    },
    {
     "name": "stderr",
     "output_type": "stream",
     "text": [
      "2024-09-18 02:28:32,806 - INFO - Thoughts:\n",
      "- The current screenshots show that \"Philadelphia, PA\" has been selected in the second search field.\n",
      "- The next step is to hit the search button to initiate the search for restaurants in Philadelphia.\n",
      "- After initiating the search, we will need to scroll or navigate through pagination to find \"Checkers\".\n",
      "- Once \"Checkers\" is found, we will need to click on it and then reserve on the new page.\n",
      "\n",
      "Next engine: Navigation Engine\n",
      "Instruction: Click on the \"Find Around Me\" button to initiate the search.\n",
      "2024-09-18 02:28:43,720 - INFO - Thoughts:\n",
      "- The current screenshot shows the search results for restaurants in Philadelphia, PA on Yelp.\n",
      "- The objective is to find a restaurant named \"Checkers\" and then reserve a table.\n",
      "- The current page shows a list of restaurants, but \"Checkers\" is not visible in the current view.\n",
      "- The next step should involve scrolling down to see more results and find \"Checkers\".\n",
      "\n",
      "Next engine: Navigation Controls\n",
      "Instruction: SCROLL_DOWN\n"
     ]
    },
    {
     "name": "stdout",
     "output_type": "stream",
     "text": [
      "Failed to delete screenshots\\80111e9c1eec3fb3b557218e524faa5b\\e7d8ae7323c34e0b9befab24f2c813a8.png. Reason: [WinError 32] The process cannot access the file because it is being used by another process: 'screenshots\\\\80111e9c1eec3fb3b557218e524faa5b\\\\e7d8ae7323c34e0b9befab24f2c813a8.png'\n"
     ]
    },
    {
     "name": "stderr",
     "output_type": "stream",
     "text": [
      "2024-09-18 02:28:47,192 - INFO - Thoughts:\n",
      "- The current screenshot shows the search results for restaurants in Philadelphia, PA.\n",
      "- The objective is to find \"Checkers\" in the search results.\n",
      "- The current view does not show \"Checkers,\" so further navigation is required.\n",
      "- The next step should involve scrolling down to see more results.\n",
      "\n",
      "Next engine: Navigation Controls\n",
      "Instruction: SCROLL_DOWN\n"
     ]
    },
    {
     "name": "stdout",
     "output_type": "stream",
     "text": [
      "Failed to delete screenshots\\80111e9c1eec3fb3b557218e524faa5b\\b19dc0f37280275aa6498641e53af601.png. Reason: [WinError 32] The process cannot access the file because it is being used by another process: 'screenshots\\\\80111e9c1eec3fb3b557218e524faa5b\\\\b19dc0f37280275aa6498641e53af601.png'\n",
      "Failed to delete screenshots\\80111e9c1eec3fb3b557218e524faa5b\\e7d8ae7323c34e0b9befab24f2c813a8.png. Reason: [WinError 32] The process cannot access the file because it is being used by another process: 'screenshots\\\\80111e9c1eec3fb3b557218e524faa5b\\\\e7d8ae7323c34e0b9befab24f2c813a8.png'\n"
     ]
    },
    {
     "name": "stderr",
     "output_type": "stream",
     "text": [
      "2024-09-18 02:28:50,499 - INFO - Thoughts:\n",
      "- The current screenshot shows a list of restaurants in Philadelphia, PA.\n",
      "- The objective is to find \"Checkers\" and then reserve a table.\n",
      "- The current page does not show \"Checkers\" yet, so further navigation or scrolling is required.\n",
      "- The next step should involve scrolling down to see if \"Checkers\" appears on the current page.\n",
      "\n",
      "Next engine: Navigation Controls\n",
      "Instruction: SCROLL_DOWN\n"
     ]
    },
    {
     "name": "stdout",
     "output_type": "stream",
     "text": [
      "Failed to delete screenshots\\80111e9c1eec3fb3b557218e524faa5b\\b19dc0f37280275aa6498641e53af601.png. Reason: [WinError 32] The process cannot access the file because it is being used by another process: 'screenshots\\\\80111e9c1eec3fb3b557218e524faa5b\\\\b19dc0f37280275aa6498641e53af601.png'\n",
      "Failed to delete screenshots\\80111e9c1eec3fb3b557218e524faa5b\\e7d8ae7323c34e0b9befab24f2c813a8.png. Reason: [WinError 32] The process cannot access the file because it is being used by another process: 'screenshots\\\\80111e9c1eec3fb3b557218e524faa5b\\\\e7d8ae7323c34e0b9befab24f2c813a8.png'\n"
     ]
    },
    {
     "name": "stderr",
     "output_type": "stream",
     "text": [
      "2024-09-18 02:28:53,900 - INFO - Thoughts:\n",
      "- The current screenshot shows a list of restaurants in Philadelphia, PA.\n",
      "- The objective is to find \"Checkers\" and then reserve a table.\n",
      "- The current page does not show \"Checkers\" yet.\n",
      "- The next step should involve further scrolling or navigating through pagination to find \"Checkers\".\n",
      "\n",
      "Next engine: Navigation Controls\n",
      "Instruction: SCROLL_DOWN\n"
     ]
    },
    {
     "name": "stdout",
     "output_type": "stream",
     "text": [
      "Failed to delete screenshots\\80111e9c1eec3fb3b557218e524faa5b\\b19dc0f37280275aa6498641e53af601.png. Reason: [WinError 32] The process cannot access the file because it is being used by another process: 'screenshots\\\\80111e9c1eec3fb3b557218e524faa5b\\\\b19dc0f37280275aa6498641e53af601.png'\n",
      "Failed to delete screenshots\\80111e9c1eec3fb3b557218e524faa5b\\e7d8ae7323c34e0b9befab24f2c813a8.png. Reason: [WinError 32] The process cannot access the file because it is being used by another process: 'screenshots\\\\80111e9c1eec3fb3b557218e524faa5b\\\\e7d8ae7323c34e0b9befab24f2c813a8.png'\n"
     ]
    },
    {
     "name": "stderr",
     "output_type": "stream",
     "text": [
      "2024-09-18 02:29:01,896 - INFO - Thoughts:\n",
      "- The current screenshot shows a list of restaurants in Philadelphia, PA.\n",
      "- The objective is to find \"Checkers\" and then reserve a spot.\n",
      "- The current visible list does not show \"Checkers\".\n",
      "- The next step should involve further scrolling to find \"Checkers\".\n",
      "\n",
      "Next engine: Navigation Controls\n",
      "Instruction: SCROLL_DOWN\n"
     ]
    },
    {
     "name": "stdout",
     "output_type": "stream",
     "text": [
      "Failed to delete screenshots\\80111e9c1eec3fb3b557218e524faa5b\\b19dc0f37280275aa6498641e53af601.png. Reason: [WinError 32] The process cannot access the file because it is being used by another process: 'screenshots\\\\80111e9c1eec3fb3b557218e524faa5b\\\\b19dc0f37280275aa6498641e53af601.png'\n",
      "Failed to delete screenshots\\80111e9c1eec3fb3b557218e524faa5b\\e7d8ae7323c34e0b9befab24f2c813a8.png. Reason: [WinError 32] The process cannot access the file because it is being used by another process: 'screenshots\\\\80111e9c1eec3fb3b557218e524faa5b\\\\e7d8ae7323c34e0b9befab24f2c813a8.png'\n"
     ]
    },
    {
     "name": "stderr",
     "output_type": "stream",
     "text": [
      "2024-09-18 02:29:04,894 - INFO - Thoughts:\n",
      "- The current screenshot shows the search results for restaurants in Philadelphia, PA.\n",
      "- The objective is to find \"Checkers\" in the search results.\n",
      "- The current view does not show \"Checkers,\" so further navigation is required.\n",
      "- The next step should involve scrolling down to see more results.\n",
      "\n",
      "Next engine: Navigation Controls\n",
      "Instruction: SCROLL_DOWN\n"
     ]
    },
    {
     "name": "stdout",
     "output_type": "stream",
     "text": [
      "Failed to delete screenshots\\80111e9c1eec3fb3b557218e524faa5b\\b19dc0f37280275aa6498641e53af601.png. Reason: [WinError 32] The process cannot access the file because it is being used by another process: 'screenshots\\\\80111e9c1eec3fb3b557218e524faa5b\\\\b19dc0f37280275aa6498641e53af601.png'\n",
      "Failed to delete screenshots\\80111e9c1eec3fb3b557218e524faa5b\\e7d8ae7323c34e0b9befab24f2c813a8.png. Reason: [WinError 32] The process cannot access the file because it is being used by another process: 'screenshots\\\\80111e9c1eec3fb3b557218e524faa5b\\\\e7d8ae7323c34e0b9befab24f2c813a8.png'\n"
     ]
    },
    {
     "name": "stderr",
     "output_type": "stream",
     "text": [
      "2024-09-18 02:29:08,033 - INFO - Thoughts:\n",
      "- The current screenshot shows a list of restaurants in Philadelphia, PA.\n",
      "- The objective is to find \"Checkers\" and then reserve a table.\n",
      "- The current view does not show \"Checkers,\" so further navigation is required.\n",
      "- The next step should involve scrolling down to see more results.\n",
      "\n",
      "Next engine: Navigation Controls\n",
      "Instruction: SCROLL_DOWN\n"
     ]
    },
    {
     "data": {
      "text/plain": [
       "ActionResult(instruction=None, code='from selenium import webdriver\\nfrom selenium.webdriver.common.by import By\\nfrom selenium.webdriver.chrome.options import Options\\nfrom selenium.webdriver.common.keys import Keys\\nfrom selenium.webdriver.common.action_chains import ActionChains\\nfrom lavague.core.base_driver import JS_SETUP_GET_EVENTS\\n\\nelse:\\nchrome_options = Options()\\nuser_agent = \"Mozilla/5.0 (Windows NT 10.0; WOW64) AppleWebKit/537.36 (KHTML, like Gecko) Chrome/107.0.0.0 Safari/537.36\"\\nchrome_options.add_argument(f\"user-agent={user_agent}\")\\nchrome_options.add_argument(\"--no-sandbox\")\\nchrome_options.page_load_strategy = \"normal\"\\nchrome_options.add_argument(\"--disable-web-security\")\\nchrome_options.add_argument(\"--disable-site-isolation-trials\")\\nchrome_options.set_capability(\"goog:loggingPrefs\", {\"performance\": \"ALL\"})\\n\\nchrome_options.add_experimental_option(\"debuggerAddress\", \"localhost:9223\")\\n)\\n\\n# 538: browserbase implementation - move execute_cdp_cmd to inner block to avoid error\\n# AttributeError: \\'WebDriver\\' object has no attribute \\'execute_cdp_cmd\\'\\n\"Page.addScriptToEvaluateOnNewDocument\",\\n{\"source\": JS_SETUP_GET_EVENTS},\\n)\\n\\ndriver.set_window_size(1080, 1080)\\nviewport_height = driver.execute_script(\"return window.innerHeight;\")\\nheight_difference = 1080 - viewport_height\\ndriver.set_window_size(1080, 1080 + height_difference)\\n\\ndriver.get(\"http://192.168.1.176:7001\")\\n# Let\\'s think step by step\\n# The query asks us to click on the second search field (labeled \"Address, neighborhood, city\") and type \"Philadelphia\".\\n# In the provided HTML, we see that the second search field is an input element with the placeholder \"Address, neighborhood, city zip etc\".\\n# This input element has the following XPath:\\n# /html/body/header/div/header/div[2]/form/div/div[2]/div/input\\n\\n- actions:\\n    - action:\\n        # First, we need to click on the second search field to focus on it.\\n        args:\\n            xpath: \"/html/body/header/div/header/div[2]/form/div/div[2]/div/input\"\\n            value: \"\"\\n        name: \"click\"\\n    - action:\\n        # Then, we need to set the value of the search field to \"Philadelphia\".\\n        args:\\n            xpath: \"/html/body/header/div/header/div[2]/form/div/div[2]/div/input\"\\n            value: \"Philadelphia\"\\n        name: \"setValue\"# Let\\'s think step by step\\n# The query asks us to click on the \"Philadelphia, PA\" option in the dropdown list.\\n# In the provided HTML, we see that the \"Philadelphia, PA\" option is within a div element with the class \"suggestion-item\".\\n# The \"Philadelphia, PA\" option can be identified by its text content and the onclick attribute.\\n# Specifically, for the \"Philadelphia, PA\" option, there is a div element with the following XPath:\\n# /html/body/header/div/header/div[2]/form/div/div[2]/div/div/div\\n\\n- actions:\\n    - action:\\n        # We can use this XPATH to identify and click on the \"Philadelphia, PA\" option:\\n        args:\\n            xpath: \"/html/body/header/div/header/div[2]/form/div/div[2]/div/div/div\"\\n            value: \"\"\\n        name: \"click\"# Let\\'s think step by step\\n# The query asks us to click on the \"Find Around Me\" button to initiate the search.\\n# In the provided HTML, we see that the \"Find Around Me\" button is within a carousel item.\\n# The button is an anchor element with the text \"Find Around Me\" and has a specific href attribute.\\n# We can identify this button by its XPATH:\\n# /html/body/section/div/div/div/div/div/p[2]/a\\n\\n- actions:\\n    - action:\\n        # We can use this XPATH to identify and click on the \"Find Around Me\" button:\\n        args:\\n            xpath: \"/html/body/section/div/div/div/div/div/p[2]/a\"\\n            value: \"\"\\n        name: \"click\"    def scroll_down(self):\\n        self.scroll(direction=ScrollDirection.DOWN)\\n    def scroll_down(self):\\n        self.scroll(direction=ScrollDirection.DOWN)\\n    def scroll_down(self):\\n        self.scroll(direction=ScrollDirection.DOWN)\\n    def scroll_down(self):\\n        self.scroll(direction=ScrollDirection.DOWN)\\n    def scroll_down(self):\\n        self.scroll(direction=ScrollDirection.DOWN)\\n    def scroll_down(self):\\n        self.scroll(direction=ScrollDirection.DOWN)\\n    def scroll_down(self):\\n        self.scroll(direction=ScrollDirection.DOWN)\\n', success=False, output=None, total_estimated_tokens=0, total_estimated_cost=0.0)"
      ]
     },
     "execution_count": 2,
     "metadata": {},
     "output_type": "execute_result"
    }
   ],
   "source": [
    "\n",
    "\n",
    "# agent.run(\"search Philadelphia in the second search field, and then hit search. Scroll or navigate through pagination until you find Checkers. Click and on the new page then reserve .\")"
   ]
  },
  {
   "cell_type": "code",
   "execution_count": 5,
   "metadata": {},
   "outputs": [
    {
     "ename": "AttributeError",
     "evalue": "'AgentLogger' object has no attribute 'current_row'",
     "output_type": "error",
     "traceback": [
      "\u001b[1;31m---------------------------------------------------------------------------\u001b[0m",
      "\u001b[1;31mAttributeError\u001b[0m                            Traceback (most recent call last)",
      "\u001b[1;32m~\\AppData\\Local\\Temp\\ipykernel_12596\\4141211847.py\u001b[0m in \u001b[0;36m<cell line: 0>\u001b[1;34m()\u001b[0m\n\u001b[0;32m     16\u001b[0m \u001b[1;33m\u001b[0m\u001b[0m\n\u001b[0;32m     17\u001b[0m \u001b[1;31m# Run agent with a specific objective\u001b[0m\u001b[1;33m\u001b[0m\u001b[1;33m\u001b[0m\u001b[0m\n\u001b[1;32m---> 18\u001b[1;33m \u001b[0magent\u001b[0m\u001b[1;33m.\u001b[0m\u001b[0mrun_step\u001b[0m\u001b[1;33m(\u001b[0m\u001b[1;34m\"go on to the graduate program\"\u001b[0m\u001b[1;33m)\u001b[0m\u001b[1;33m\u001b[0m\u001b[1;33m\u001b[0m\u001b[0m\n\u001b[0m",
      "\u001b[1;32mc:\\flask_projects\\miniconda\\envs\\lavague_dev\\Lib\\site-packages\\lavague\\core\\agents.py\u001b[0m in \u001b[0;36mrun_step\u001b[1;34m(self, objective)\u001b[0m\n\u001b[0;32m    449\u001b[0m     \u001b[1;32mdef\u001b[0m \u001b[0mrun_step\u001b[0m\u001b[1;33m(\u001b[0m\u001b[0mself\u001b[0m\u001b[1;33m,\u001b[0m \u001b[0mobjective\u001b[0m\u001b[1;33m:\u001b[0m \u001b[0mstr\u001b[0m\u001b[1;33m)\u001b[0m \u001b[1;33m->\u001b[0m \u001b[0mOptional\u001b[0m\u001b[1;33m[\u001b[0m\u001b[0mActionResult\u001b[0m\u001b[1;33m]\u001b[0m\u001b[1;33m:\u001b[0m\u001b[1;33m\u001b[0m\u001b[1;33m\u001b[0m\u001b[0m\n\u001b[0;32m    450\u001b[0m         \u001b[0mobs\u001b[0m \u001b[1;33m=\u001b[0m \u001b[0mself\u001b[0m\u001b[1;33m.\u001b[0m\u001b[0mdriver\u001b[0m\u001b[1;33m.\u001b[0m\u001b[0mget_obs\u001b[0m\u001b[1;33m(\u001b[0m\u001b[1;33m)\u001b[0m\u001b[1;33m\u001b[0m\u001b[1;33m\u001b[0m\u001b[0m\n\u001b[1;32m--> 451\u001b[1;33m         \u001b[0mcurrent_state\u001b[0m\u001b[1;33m,\u001b[0m \u001b[0mpast\u001b[0m \u001b[1;33m=\u001b[0m \u001b[0mself\u001b[0m\u001b[1;33m.\u001b[0m\u001b[0mst_memory\u001b[0m\u001b[1;33m.\u001b[0m\u001b[0mget_state\u001b[0m\u001b[1;33m(\u001b[0m\u001b[1;33m)\u001b[0m\u001b[1;33m\u001b[0m\u001b[1;33m\u001b[0m\u001b[0m\n\u001b[0m\u001b[0;32m    452\u001b[0m \u001b[1;33m\u001b[0m\u001b[0m\n\u001b[0;32m    453\u001b[0m         world_model_output = self.world_model.get_instruction(\n",
      "\u001b[1;32mc:\\flask_projects\\miniconda\\envs\\lavague_dev\\Lib\\site-packages\\lavague\\core\\memory.py\u001b[0m in \u001b[0;36mget_state\u001b[1;34m(self)\u001b[0m\n\u001b[0;32m     47\u001b[0m                 \u001b[1;34m\"past\"\u001b[0m\u001b[1;33m:\u001b[0m \u001b[0mpast\u001b[0m\u001b[1;33m,\u001b[0m\u001b[1;33m\u001b[0m\u001b[1;33m\u001b[0m\u001b[0m\n\u001b[0;32m     48\u001b[0m             \u001b[1;33m}\u001b[0m\u001b[1;33m\u001b[0m\u001b[1;33m\u001b[0m\u001b[0m\n\u001b[1;32m---> 49\u001b[1;33m             \u001b[0mlogger\u001b[0m\u001b[1;33m.\u001b[0m\u001b[0madd_log\u001b[0m\u001b[1;33m(\u001b[0m\u001b[0mlog\u001b[0m\u001b[1;33m)\u001b[0m\u001b[1;33m\u001b[0m\u001b[1;33m\u001b[0m\u001b[0m\n\u001b[0m\u001b[0;32m     50\u001b[0m         \u001b[1;32mreturn\u001b[0m \u001b[0mcurrent_state\u001b[0m\u001b[1;33m,\u001b[0m \u001b[0mpast\u001b[0m\u001b[1;33m\u001b[0m\u001b[1;33m\u001b[0m\u001b[0m\n\u001b[0;32m     51\u001b[0m \u001b[1;33m\u001b[0m\u001b[0m\n",
      "\u001b[1;32mc:\\flask_projects\\miniconda\\envs\\lavague_dev\\Lib\\site-packages\\lavague\\core\\logger.py\u001b[0m in \u001b[0;36madd_log\u001b[1;34m(self, log)\u001b[0m\n\u001b[0;32m     48\u001b[0m     \u001b[1;32mdef\u001b[0m \u001b[0madd_log\u001b[0m\u001b[1;33m(\u001b[0m\u001b[0mself\u001b[0m\u001b[1;33m,\u001b[0m \u001b[0mlog\u001b[0m\u001b[1;33m:\u001b[0m \u001b[0mdict\u001b[0m\u001b[1;33m)\u001b[0m\u001b[1;33m:\u001b[0m\u001b[1;33m\u001b[0m\u001b[1;33m\u001b[0m\u001b[0m\n\u001b[0;32m     49\u001b[0m         \u001b[1;32mfor\u001b[0m \u001b[0mk\u001b[0m\u001b[1;33m,\u001b[0m \u001b[0mv\u001b[0m \u001b[1;32min\u001b[0m \u001b[0mlog\u001b[0m\u001b[1;33m.\u001b[0m\u001b[0mitems\u001b[0m\u001b[1;33m(\u001b[0m\u001b[1;33m)\u001b[0m\u001b[1;33m:\u001b[0m\u001b[1;33m\u001b[0m\u001b[1;33m\u001b[0m\u001b[0m\n\u001b[1;32m---> 50\u001b[1;33m             \u001b[0mself\u001b[0m\u001b[1;33m.\u001b[0m\u001b[0mcurrent_row\u001b[0m\u001b[1;33m[\u001b[0m\u001b[0mk\u001b[0m\u001b[1;33m]\u001b[0m \u001b[1;33m=\u001b[0m \u001b[0mv\u001b[0m\u001b[1;33m\u001b[0m\u001b[1;33m\u001b[0m\u001b[0m\n\u001b[0m\u001b[0;32m     51\u001b[0m \u001b[1;33m\u001b[0m\u001b[0m\n\u001b[0;32m     52\u001b[0m     \u001b[1;32mdef\u001b[0m \u001b[0mreturn_pandas\u001b[0m\u001b[1;33m(\u001b[0m\u001b[0mself\u001b[0m\u001b[1;33m)\u001b[0m \u001b[1;33m->\u001b[0m \u001b[0mpd\u001b[0m\u001b[1;33m.\u001b[0m\u001b[0mDataFrame\u001b[0m\u001b[1;33m:\u001b[0m\u001b[1;33m\u001b[0m\u001b[1;33m\u001b[0m\u001b[0m\n",
      "\u001b[1;31mAttributeError\u001b[0m: 'AgentLogger' object has no attribute 'current_row'"
     ]
    }
   ],
   "source": [
    "# Install necessary elements\n",
    "from lavague.drivers.selenium import SeleniumDriver\n",
    "from lavague.core import ActionEngine, WorldModel\n",
    "from lavague.core.agents import WebAgent\n",
    "\n",
    "# Set up our three key components: Driver, Action Engine, World Model\n",
    "driver = SeleniumDriver(headless=False)\n",
    "action_engine = ActionEngine(driver)\n",
    "world_model = WorldModel()\n",
    "\n",
    "# Create Web Agent\n",
    "agent = WebAgent(world_model, action_engine)\n",
    "\n",
    "# Set URL\n",
    "agent.get(\"https://gradschool.uky.edu/graduate-programs\")\n",
    "\n",
    "# Run agent with a specific objective\n",
    "agent.run_step(\"go on to the graduate program\")"
   ]
  },
  {
   "cell_type": "code",
   "execution_count": null,
   "metadata": {},
   "outputs": [],
   "source": []
  }
 ],
 "metadata": {
  "kernelspec": {
   "display_name": "Python 3.12.4 ('lavague_dev')",
   "language": "python",
   "name": "python3"
  },
  "language_info": {
   "codemirror_mode": {
    "name": "ipython",
    "version": 3
   },
   "file_extension": ".py",
   "mimetype": "text/x-python",
   "name": "python",
   "nbconvert_exporter": "python",
   "pygments_lexer": "ipython3",
   "version": "3.12.4"
  },
  "orig_nbformat": 4,
  "vscode": {
   "interpreter": {
    "hash": "458216463f534d82f84fd29c7ce3e85705dca24a168ef913e93a47be9735af35"
   }
  }
 },
 "nbformat": 4,
 "nbformat_minor": 2
}
